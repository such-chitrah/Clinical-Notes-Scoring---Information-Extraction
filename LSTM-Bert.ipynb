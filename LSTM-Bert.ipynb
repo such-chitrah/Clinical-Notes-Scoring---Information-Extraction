{
 "cells": [
  {
   "cell_type": "code",
   "execution_count": 1,
   "id": "82f2d66f",
   "metadata": {
    "_cell_guid": "b1076dfc-b9ad-4769-8c92-a6c4dae69d19",
    "_uuid": "8f2839f25d086af736a60e9eeb907d3b93b6e0e5",
    "execution": {
     "iopub.execute_input": "2022-05-04T19:10:40.830172Z",
     "iopub.status.busy": "2022-05-04T19:10:40.828631Z",
     "iopub.status.idle": "2022-05-04T19:10:40.980556Z",
     "shell.execute_reply": "2022-05-04T19:10:40.979983Z",
     "shell.execute_reply.started": "2022-05-04T16:33:17.823240Z"
    }, 
    "papermill": {
     "duration": 0.18808,
     "end_time": "2022-05-04T19:10:40.980697",
     "exception": false,
     "start_time": "2022-05-04T19:10:40.792617",
     "status": "completed"
    },
    "tags": []
   },
   "outputs": [
    {
     "name": "stdout",
     "output_type": "stream",
     "text": [
      "/kaggle/input/huggingface-bert/bert-base-multilingual-cased/config.json\n",
      "/kaggle/input/huggingface-bert/bert-base-multilingual-cased/tokenizer.json\n",
      "/kaggle/input/huggingface-bert/bert-base-multilingual-cased/tf_model.h5\n",
      "/kaggle/input/huggingface-bert/bert-base-multilingual-cased/pytorch_model.bin\n",
      "/kaggle/input/huggingface-bert/bert-base-multilingual-cased/modelcard.json\n",
      "/kaggle/input/huggingface-bert/bert-base-multilingual-cased/vocab.txt\n",
      "/kaggle/input/huggingface-bert/bert-large-uncased/config.json\n",
      "/kaggle/input/huggingface-bert/bert-large-uncased/tokenizer.json\n",
      "/kaggle/input/huggingface-bert/bert-large-uncased/tf_model.h5\n",
      "/kaggle/input/huggingface-bert/bert-large-uncased/pytorch_model.bin\n",
      "/kaggle/input/huggingface-bert/bert-large-uncased/modelcard.json\n",
      "/kaggle/input/huggingface-bert/bert-large-uncased/vocab.txt\n",
      "/kaggle/input/huggingface-bert/bert-large-uncased/whole-word-masking/._bert_config.json\n",
      "/kaggle/input/huggingface-bert/bert-large-uncased/whole-word-masking/bert_config.json\n",
      "/kaggle/input/huggingface-bert/bert-large-uncased/whole-word-masking/pytorch_model.bin\n",
      "/kaggle/input/huggingface-bert/bert-large-cased/config.json\n",
      "/kaggle/input/huggingface-bert/bert-large-cased/tokenizer.json\n",
      "/kaggle/input/huggingface-bert/bert-large-cased/tf_model.h5\n",
      "/kaggle/input/huggingface-bert/bert-large-cased/pytorch_model.bin\n",
      "/kaggle/input/huggingface-bert/bert-large-cased/modelcard.json\n",
      "/kaggle/input/huggingface-bert/bert-large-cased/vocab.txt\n",
      "/kaggle/input/huggingface-bert/bert-large-cased/whole-word-masking/._bert_config.json\n",
      "/kaggle/input/huggingface-bert/bert-large-cased/whole-word-masking/bert_config.json\n",
      "/kaggle/input/huggingface-bert/bert-large-cased/whole-word-masking/pytorch_model.bin\n",
      "/kaggle/input/huggingface-bert/cl-tohoku/bert-base-japanese-whole-word-masking/config.json\n",
      "/kaggle/input/huggingface-bert/cl-tohoku/bert-base-japanese-whole-word-masking/tf_model.h5\n",
      "/kaggle/input/huggingface-bert/cl-tohoku/bert-base-japanese-whole-word-masking/tokenizer_config.json\n",
      "/kaggle/input/huggingface-bert/cl-tohoku/bert-base-japanese-whole-word-masking/pytorch_model.bin\n",
      "/kaggle/input/huggingface-bert/cl-tohoku/bert-base-japanese-whole-word-masking/vocab.txt\n",
      "/kaggle/input/huggingface-bert/dbmdz/bert-large-cased-finetuned-conll03-english/rust_model.ot\n",
      "/kaggle/input/huggingface-bert/dbmdz/bert-large-cased-finetuned-conll03-english/config.json\n",
      "/kaggle/input/huggingface-bert/dbmdz/bert-large-cased-finetuned-conll03-english/tf_model.h5\n",
      "/kaggle/input/huggingface-bert/dbmdz/bert-large-cased-finetuned-conll03-english/tokenizer_config.json\n",
      "/kaggle/input/huggingface-bert/dbmdz/bert-large-cased-finetuned-conll03-english/pytorch_model.bin\n",
      "/kaggle/input/huggingface-bert/dbmdz/bert-large-cased-finetuned-conll03-english/modelcard.json\n",
      "/kaggle/input/huggingface-bert/dbmdz/bert-large-cased-finetuned-conll03-english/vocab.txt\n",
      "/kaggle/input/huggingface-bert/bert-large-cased-whole-word-masking/config.json\n",
      "/kaggle/input/huggingface-bert/bert-large-cased-whole-word-masking/tokenizer.json\n",
      "/kaggle/input/huggingface-bert/bert-large-cased-whole-word-masking/tf_model.h5\n",
      "/kaggle/input/huggingface-bert/bert-large-cased-whole-word-masking/pytorch_model.bin\n",
      "/kaggle/input/huggingface-bert/bert-large-cased-whole-word-masking/modelcard.json\n",
      "/kaggle/input/huggingface-bert/bert-large-cased-whole-word-masking/vocab.txt\n",
      "/kaggle/input/huggingface-bert/bert-base-cased/config.json\n",
      "/kaggle/input/huggingface-bert/bert-base-cased/tokenizer.json\n",
      "/kaggle/input/huggingface-bert/bert-base-cased/tf_model.h5\n",
      "/kaggle/input/huggingface-bert/bert-base-cased/pytorch_model.bin\n",
      "/kaggle/input/huggingface-bert/bert-base-cased/modelcard.json\n",
      "/kaggle/input/huggingface-bert/bert-base-cased/vocab.txt\n",
      "/kaggle/input/huggingface-bert/bert-base-cased/flax_model.msgpack\n",
      "/kaggle/input/huggingface-bert/bert-base-german-cased/config.json\n",
      "/kaggle/input/huggingface-bert/bert-base-german-cased/tokenizer.json\n",
      "/kaggle/input/huggingface-bert/bert-base-german-cased/tf_model.h5\n",
      "/kaggle/input/huggingface-bert/bert-base-german-cased/pytorch_model.bin\n",
      "/kaggle/input/huggingface-bert/bert-base-german-cased/modelcard.json\n",
      "/kaggle/input/huggingface-bert/bert-base-multilingual-uncased/config.json\n",
      "/kaggle/input/huggingface-bert/bert-base-multilingual-uncased/tokenizer.json\n",
      "/kaggle/input/huggingface-bert/bert-base-multilingual-uncased/tf_model.h5\n",
      "/kaggle/input/huggingface-bert/bert-base-multilingual-uncased/pytorch_model.bin\n",
      "/kaggle/input/huggingface-bert/bert-base-multilingual-uncased/modelcard.json\n",
      "/kaggle/input/huggingface-bert/bert-base-multilingual-uncased/vocab.txt\n",
      "/kaggle/input/huggingface-bert/deepset/bert-large-uncased-whole-word-masking-squad2/config.json\n",
      "/kaggle/input/huggingface-bert/deepset/bert-large-uncased-whole-word-masking-squad2/tokenizer_config.json\n",
      "/kaggle/input/huggingface-bert/deepset/bert-large-uncased-whole-word-masking-squad2/pytorch_model.bin\n",
      "/kaggle/input/huggingface-bert/deepset/bert-large-uncased-whole-word-masking-squad2/modelcard.json\n",
      "/kaggle/input/huggingface-bert/deepset/bert-large-uncased-whole-word-masking-squad2/special_tokens_map.json\n",
      "/kaggle/input/huggingface-bert/deepset/bert-large-uncased-whole-word-masking-squad2/vocab.txt\n",
      "/kaggle/input/huggingface-bert/deepset/bert-large-uncased-whole-word-masking-squad2/added_tokens.json\n",
      "/kaggle/input/huggingface-bert/deepset/bert-large-uncased-whole-word-masking-squad2/saved_model/saved_model.pb\n",
      "/kaggle/input/huggingface-bert/deepset/bert-large-uncased-whole-word-masking-squad2/saved_model/variables/variables.index\n",
      "/kaggle/input/huggingface-bert/deepset/bert-large-uncased-whole-word-masking-squad2/saved_model/variables/variables.data-00000-of-00001\n",
      "/kaggle/input/huggingface-bert/bert-base-chinese/config.json\n",
      "/kaggle/input/huggingface-bert/bert-base-chinese/tokenizer.json\n",
      "/kaggle/input/huggingface-bert/bert-base-chinese/tf_model.h5\n",
      "/kaggle/input/huggingface-bert/bert-base-chinese/pytorch_model.bin\n",
      "/kaggle/input/huggingface-bert/bert-base-chinese/modelcard.json\n",
      "/kaggle/input/huggingface-bert/bert-base-chinese/vocab.txt\n",
      "/kaggle/input/huggingface-bert/bert-base-uncased/rust_model.ot\n",
      "/kaggle/input/huggingface-bert/bert-base-uncased/config.json\n",
      "/kaggle/input/huggingface-bert/bert-base-uncased/tokenizer.json\n",
      "/kaggle/input/huggingface-bert/bert-base-uncased/tf_model.h5\n",
      "/kaggle/input/huggingface-bert/bert-base-uncased/pytorch_model.bin\n",
      "/kaggle/input/huggingface-bert/bert-base-uncased/modelcard.json\n",
      "/kaggle/input/huggingface-bert/bert-base-uncased/vocab.txt\n",
      "/kaggle/input/huggingface-bert/dccuchile/bert-base-spanish-wwm-uncased/config.json\n",
      "/kaggle/input/huggingface-bert/dccuchile/bert-base-spanish-wwm-uncased/tokenizer_config.json\n",
      "/kaggle/input/huggingface-bert/dccuchile/bert-base-spanish-wwm-uncased/pytorch_model.bin\n",
      "/kaggle/input/huggingface-bert/dccuchile/bert-base-spanish-wwm-uncased/special_tokens_map.json\n",
      "/kaggle/input/huggingface-bert/dccuchile/bert-base-spanish-wwm-uncased/vocab.txt\n",
      "/kaggle/input/huggingface-bert/dccuchile/bert-base-spanish-wwm-uncased/added_tokens.json\n",
      "/kaggle/input/huggingface-bert/dccuchile/bert-base-spanish-wwm-cased/config.json\n",
      "/kaggle/input/huggingface-bert/dccuchile/bert-base-spanish-wwm-cased/tokenizer_config.json\n",
      "/kaggle/input/huggingface-bert/dccuchile/bert-base-spanish-wwm-cased/pytorch_model.bin\n",
      "/kaggle/input/huggingface-bert/dccuchile/bert-base-spanish-wwm-cased/special_tokens_map.json\n",
      "/kaggle/input/huggingface-bert/dccuchile/bert-base-spanish-wwm-cased/vocab.txt\n",
      "/kaggle/input/huggingface-bert/dccuchile/bert-base-spanish-wwm-cased/added_tokens.json\n",
      "/kaggle/input/nbme-score-clinical-patient-notes/sample_submission.csv\n",
      "/kaggle/input/nbme-score-clinical-patient-notes/patient_notes.csv\n",
      "/kaggle/input/nbme-score-clinical-patient-notes/features.csv\n",
      "/kaggle/input/nbme-score-clinical-patient-notes/train.csv\n",
      "/kaggle/input/nbme-score-clinical-patient-notes/test.csv\n"
     ]
    }
   ],
   "source": [
    "# This Python 3 environment comes with many helpful analytics libraries installed\n",
    "# It is defined by the kaggle/python Docker image: https://github.com/kaggle/docker-python\n",
    "# For example, here's several helpful packages to load\n",
    "\n",
    "import numpy as np # linear algebra\n",
    "import pandas as pd # data processing, CSV file I/O (e.g. pd.read_csv)\n",
    "\n",
    "# Input data files are available in the read-only \"../input/\" directory\n",
    "# For example, running this (by clicking run or pressing Shift+Enter) will list all files under the input directory\n",
    "\n",
    "import os\n",
    "for dirname, _, filenames in os.walk('/kaggle/input'):\n",
    "    for filename in filenames:\n",
    "        print(os.path.join(dirname, filename))\n",
    "\n",
    "# You can write up to 20GB to the current directory (/kaggle/working/) that gets preserved as output when you create a version using \"Save & Run All\" \n",
    "# You can also write temporary files to /kaggle/temp/, but they won't be saved outside of the current session"
   ]
  },
  {
   "cell_type": "code",
   "execution_count": 2,
   "id": "f4e71663",
   "metadata": {
    "execution": {
     "iopub.execute_input": "2022-05-04T19:10:41.051627Z",
     "iopub.status.busy": "2022-05-04T19:10:41.051114Z",
     "iopub.status.idle": "2022-05-04T19:10:43.715747Z",
     "shell.execute_reply": "2022-05-04T19:10:43.715054Z",
     "shell.execute_reply.started": "2022-05-04T16:33:17.974744Z"
    },
    "papermill": {
     "duration": 2.70079,
     "end_time": "2022-05-04T19:10:43.715944",
     "exception": false,
     "start_time": "2022-05-04T19:10:41.015154",
     "status": "completed"
    },
    "tags": []
   },
   "outputs": [],
   "source": [
    "import numpy as np\n",
    "import pandas as pd\n",
    "import ast\n",
    "from itertools import chain\n",
    "from sklearn.metrics import precision_recall_fscore_support\n",
    "from sklearn.model_selection import GroupKFold\n",
    "\n",
    "import torch\n",
    "from torch.utils.data import Dataset\n",
    "from transformers import AutoModel, AutoTokenizer\n",
    "\n",
    "from tqdm import tqdm\n",
    "import matplotlib.pyplot as plt"
   ]
  },
  {
   "cell_type": "code",
   "execution_count": 3,
   "id": "bf641440",
   "metadata": {
    "execution": {
     "iopub.execute_input": "2022-05-04T19:10:43.800798Z",
     "iopub.status.busy": "2022-05-04T19:10:43.800002Z",
     "iopub.status.idle": "2022-05-04T19:10:43.802137Z",
     "shell.execute_reply": "2022-05-04T19:10:43.802536Z",
     "shell.execute_reply.started": "2022-05-04T16:33:20.243568Z"
    },
    "papermill": {
     "duration": 0.03739,
     "end_time": "2022-05-04T19:10:43.802666",
     "exception": false,
     "start_time": "2022-05-04T19:10:43.765276",
     "status": "completed"
    },
    "tags": []
   },
   "outputs": [],
   "source": [
    "root = \"../input/nbme-score-clinical-patient-notes\""
   ]
  },
  {
   "cell_type": "code",
   "execution_count": 4,
   "id": "2b0247c8",
   "metadata": {
    "execution": {
     "iopub.execute_input": "2022-05-04T19:10:43.874676Z",
     "iopub.status.busy": "2022-05-04T19:10:43.874011Z",
     "iopub.status.idle": "2022-05-04T19:10:44.978498Z",
     "shell.execute_reply": "2022-05-04T19:10:44.979030Z",
     "shell.execute_reply.started": "2022-05-04T16:33:20.250509Z"
    },
    "papermill": {
     "duration": 1.144638,
     "end_time": "2022-05-04T19:10:44.979184",
     "exception": false,
     "start_time": "2022-05-04T19:10:43.834546",
     "status": "completed"
    },
    "tags": []
   },
   "outputs": [
    {
     "data": {
      "text/html": [
       "<div>\n",
       "<style scoped>\n",
       "    .dataframe tbody tr th:only-of-type {\n",
       "        vertical-align: middle;\n",
       "    }\n",
       "\n",
       "    .dataframe tbody tr th {\n",
       "        vertical-align: top;\n",
       "    }\n",
       "\n",
       "    .dataframe thead th {\n",
       "        text-align: right;\n",
       "    }\n",
       "</style>\n",
       "<table border=\"1\" class=\"dataframe\">\n",
       "  <thead>\n",
       "    <tr style=\"text-align: right;\">\n",
       "      <th></th>\n",
       "      <th>id</th>\n",
       "      <th>case_num</th>\n",
       "      <th>pn_num</th>\n",
       "      <th>feature_num</th>\n",
       "      <th>annotation</th>\n",
       "      <th>location</th>\n",
       "      <th>feature_text</th>\n",
       "      <th>pn_history</th>\n",
       "      <th>fold</th>\n",
       "    </tr>\n",
       "  </thead>\n",
       "  <tbody>\n",
       "    <tr>\n",
       "      <th>0</th>\n",
       "      <td>00016_000</td>\n",
       "      <td>0</td>\n",
       "      <td>16</td>\n",
       "      <td>0</td>\n",
       "      <td>[dad with recent heart attcak]</td>\n",
       "      <td>[696 724]</td>\n",
       "      <td>Family-history-of-MI-OR-Family-history-of-myoc...</td>\n",
       "      <td>HPI: 17yo M presents with palpitations. Patien...</td>\n",
       "      <td>4</td>\n",
       "    </tr>\n",
       "    <tr>\n",
       "      <th>1</th>\n",
       "      <td>00016_001</td>\n",
       "      <td>0</td>\n",
       "      <td>16</td>\n",
       "      <td>1</td>\n",
       "      <td>[mom with \"thyroid disease]</td>\n",
       "      <td>[668 693]</td>\n",
       "      <td>Family-history-of-thyroid-disorder</td>\n",
       "      <td>HPI: 17yo M presents with palpitations. Patien...</td>\n",
       "      <td>4</td>\n",
       "    </tr>\n",
       "    <tr>\n",
       "      <th>2</th>\n",
       "      <td>00016_002</td>\n",
       "      <td>0</td>\n",
       "      <td>16</td>\n",
       "      <td>2</td>\n",
       "      <td>[chest pressure]</td>\n",
       "      <td>[203 217]</td>\n",
       "      <td>Chest-pressure</td>\n",
       "      <td>HPI: 17yo M presents with palpitations. Patien...</td>\n",
       "      <td>4</td>\n",
       "    </tr>\n",
       "    <tr>\n",
       "      <th>3</th>\n",
       "      <td>00016_003</td>\n",
       "      <td>0</td>\n",
       "      <td>16</td>\n",
       "      <td>3</td>\n",
       "      <td>[intermittent episodes, episode]</td>\n",
       "      <td>[70 91, 176 183]</td>\n",
       "      <td>Intermittent-symptoms</td>\n",
       "      <td>HPI: 17yo M presents with palpitations. Patien...</td>\n",
       "      <td>4</td>\n",
       "    </tr>\n",
       "    <tr>\n",
       "      <th>4</th>\n",
       "      <td>00016_004</td>\n",
       "      <td>0</td>\n",
       "      <td>16</td>\n",
       "      <td>4</td>\n",
       "      <td>[felt as if he were going to pass out]</td>\n",
       "      <td>[222 258]</td>\n",
       "      <td>Lightheaded</td>\n",
       "      <td>HPI: 17yo M presents with palpitations. Patien...</td>\n",
       "      <td>4</td>\n",
       "    </tr>\n",
       "    <tr>\n",
       "      <th>...</th>\n",
       "      <td>...</td>\n",
       "      <td>...</td>\n",
       "      <td>...</td>\n",
       "      <td>...</td>\n",
       "      <td>...</td>\n",
       "      <td>...</td>\n",
       "      <td>...</td>\n",
       "      <td>...</td>\n",
       "      <td>...</td>\n",
       "    </tr>\n",
       "    <tr>\n",
       "      <th>14295</th>\n",
       "      <td>95333_912</td>\n",
       "      <td>9</td>\n",
       "      <td>95333</td>\n",
       "      <td>912</td>\n",
       "      <td>[]</td>\n",
       "      <td>[]</td>\n",
       "      <td>Family-history-of-migraines</td>\n",
       "      <td>Stephanie madden is a 20 year old woman compla...</td>\n",
       "      <td>4</td>\n",
       "    </tr>\n",
       "    <tr>\n",
       "      <th>14296</th>\n",
       "      <td>95333_913</td>\n",
       "      <td>9</td>\n",
       "      <td>95333</td>\n",
       "      <td>913</td>\n",
       "      <td>[]</td>\n",
       "      <td>[]</td>\n",
       "      <td>Female</td>\n",
       "      <td>Stephanie madden is a 20 year old woman compla...</td>\n",
       "      <td>4</td>\n",
       "    </tr>\n",
       "    <tr>\n",
       "      <th>14297</th>\n",
       "      <td>95333_914</td>\n",
       "      <td>9</td>\n",
       "      <td>95333</td>\n",
       "      <td>914</td>\n",
       "      <td>[photobia]</td>\n",
       "      <td>[274 282]</td>\n",
       "      <td>Photophobia</td>\n",
       "      <td>Stephanie madden is a 20 year old woman compla...</td>\n",
       "      <td>4</td>\n",
       "    </tr>\n",
       "    <tr>\n",
       "      <th>14298</th>\n",
       "      <td>95333_915</td>\n",
       "      <td>9</td>\n",
       "      <td>95333</td>\n",
       "      <td>915</td>\n",
       "      <td>[no sick contacts]</td>\n",
       "      <td>[421 437]</td>\n",
       "      <td>No-known-illness-contacts</td>\n",
       "      <td>Stephanie madden is a 20 year old woman compla...</td>\n",
       "      <td>4</td>\n",
       "    </tr>\n",
       "    <tr>\n",
       "      <th>14299</th>\n",
       "      <td>95333_916</td>\n",
       "      <td>9</td>\n",
       "      <td>95333</td>\n",
       "      <td>916</td>\n",
       "      <td>[Subjective fever]</td>\n",
       "      <td>[314 330]</td>\n",
       "      <td>Subjective-fever</td>\n",
       "      <td>Stephanie madden is a 20 year old woman compla...</td>\n",
       "      <td>4</td>\n",
       "    </tr>\n",
       "  </tbody>\n",
       "</table>\n",
       "<p>14300 rows × 9 columns</p>\n",
       "</div>"
      ],
      "text/plain": [
       "              id  case_num  pn_num  feature_num  \\\n",
       "0      00016_000         0      16            0   \n",
       "1      00016_001         0      16            1   \n",
       "2      00016_002         0      16            2   \n",
       "3      00016_003         0      16            3   \n",
       "4      00016_004         0      16            4   \n",
       "...          ...       ...     ...          ...   \n",
       "14295  95333_912         9   95333          912   \n",
       "14296  95333_913         9   95333          913   \n",
       "14297  95333_914         9   95333          914   \n",
       "14298  95333_915         9   95333          915   \n",
       "14299  95333_916         9   95333          916   \n",
       "\n",
       "                                   annotation          location  \\\n",
       "0              [dad with recent heart attcak]         [696 724]   \n",
       "1                 [mom with \"thyroid disease]         [668 693]   \n",
       "2                            [chest pressure]         [203 217]   \n",
       "3            [intermittent episodes, episode]  [70 91, 176 183]   \n",
       "4      [felt as if he were going to pass out]         [222 258]   \n",
       "...                                       ...               ...   \n",
       "14295                                      []                []   \n",
       "14296                                      []                []   \n",
       "14297                              [photobia]         [274 282]   \n",
       "14298                      [no sick contacts]         [421 437]   \n",
       "14299                      [Subjective fever]         [314 330]   \n",
       "\n",
       "                                            feature_text  \\\n",
       "0      Family-history-of-MI-OR-Family-history-of-myoc...   \n",
       "1                     Family-history-of-thyroid-disorder   \n",
       "2                                         Chest-pressure   \n",
       "3                                  Intermittent-symptoms   \n",
       "4                                            Lightheaded   \n",
       "...                                                  ...   \n",
       "14295                        Family-history-of-migraines   \n",
       "14296                                             Female   \n",
       "14297                                        Photophobia   \n",
       "14298                          No-known-illness-contacts   \n",
       "14299                                   Subjective-fever   \n",
       "\n",
       "                                              pn_history  fold  \n",
       "0      HPI: 17yo M presents with palpitations. Patien...     4  \n",
       "1      HPI: 17yo M presents with palpitations. Patien...     4  \n",
       "2      HPI: 17yo M presents with palpitations. Patien...     4  \n",
       "3      HPI: 17yo M presents with palpitations. Patien...     4  \n",
       "4      HPI: 17yo M presents with palpitations. Patien...     4  \n",
       "...                                                  ...   ...  \n",
       "14295  Stephanie madden is a 20 year old woman compla...     4  \n",
       "14296  Stephanie madden is a 20 year old woman compla...     4  \n",
       "14297  Stephanie madden is a 20 year old woman compla...     4  \n",
       "14298  Stephanie madden is a 20 year old woman compla...     4  \n",
       "14299  Stephanie madden is a 20 year old woman compla...     4  \n",
       "\n",
       "[14300 rows x 9 columns]"
      ]
     },
     "execution_count": 4,
     "metadata": {},
     "output_type": "execute_result"
    }
   ],
   "source": [
    "def create_train_df():\n",
    "    '''\n",
    "    preprocessing and merge all training data\n",
    "    Returns : merged data\n",
    "    '''\n",
    "    features = pd.read_csv(root+\"/features.csv\")\n",
    "    features.loc[27, 'feature_text'] = 'Last-Pap-smear-1-year-ago'\n",
    "    notes = pd.read_csv(root+\"/patient_notes.csv\")\n",
    "    train = pd.read_csv(root+\"/train.csv\")\n",
    "    train['annotation'] = train['annotation'].apply(ast.literal_eval)\n",
    "    train['location'] = train['location'].apply(ast.literal_eval)\n",
    "    train = train.merge(features, on=['feature_num', 'case_num'], how='left')\n",
    "    train = train.merge(notes, on=['pn_num', 'case_num'], how='left')\n",
    "    \n",
    "    return train\n",
    "    \n",
    "    \n",
    "data = create_train_df()\n",
    "\n",
    "Fold = GroupKFold(n_splits=5)\n",
    "groups = data['pn_num'].values\n",
    "for n, (train_index, val_index) in enumerate(Fold.split(data, data['location'], groups)):\n",
    "    data.loc[val_index, 'fold'] = int(n)\n",
    "data['fold'] = data['fold'].astype(int)     \n",
    "\n",
    "\n",
    "data"
   ]
  },
  {
   "cell_type": "code",
   "execution_count": 5,
   "id": "a44c47da",
   "metadata": {
    "execution": {
     "iopub.execute_input": "2022-05-04T19:10:45.051431Z",
     "iopub.status.busy": "2022-05-04T19:10:45.050552Z",
     "iopub.status.idle": "2022-05-04T19:10:45.053570Z",
     "shell.execute_reply": "2022-05-04T19:10:45.053999Z",
     "shell.execute_reply.started": "2022-05-04T16:33:21.391650Z"
    },
    "papermill": {
     "duration": 0.041311,
     "end_time": "2022-05-04T19:10:45.054130",
     "exception": false,
     "start_time": "2022-05-04T19:10:45.012819",
     "status": "completed"
    },
    "tags": []
   },
   "outputs": [
    {
     "data": {
      "text/plain": [
       "['668 693']"
      ]
     },
     "execution_count": 5,
     "metadata": {},
     "output_type": "execute_result"
    }
   ],
   "source": [
    "data['location'].iloc[1]"
   ]
  },
  {
   "cell_type": "code",
   "execution_count": 6,
   "id": "28359470",
   "metadata": {
    "execution": {
     "iopub.execute_input": "2022-05-04T19:10:45.122479Z",
     "iopub.status.busy": "2022-05-04T19:10:45.121701Z",
     "iopub.status.idle": "2022-05-04T19:10:52.015586Z",
     "shell.execute_reply": "2022-05-04T19:10:52.015109Z",
     "shell.execute_reply.started": "2022-05-04T16:33:21.399656Z"
    },
    "papermill": {
     "duration": 6.929397,
     "end_time": "2022-05-04T19:10:52.015717",
     "exception": false,
     "start_time": "2022-05-04T19:10:45.086320",
     "status": "completed"
    },
    "tags": []
   },
   "outputs": [
    {
     "data": {
      "application/vnd.jupyter.widget-view+json": {
       "model_id": "f0c67ff0e1754f76bfef240075725b13",
       "version_major": 2,
       "version_minor": 0
      },
      "text/plain": [
       "Downloading:   0%|          | 0.00/28.0 [00:00<?, ?B/s]"
      ]
     },
     "metadata": {},
     "output_type": "display_data"
    },
    {
     "data": {
      "application/vnd.jupyter.widget-view+json": {
       "model_id": "10faed0525c548548dbe1c97a309c3ff",
       "version_major": 2,
       "version_minor": 0
      },
      "text/plain": [
       "Downloading:   0%|          | 0.00/570 [00:00<?, ?B/s]"
      ]
     },
     "metadata": {},
     "output_type": "display_data"
    },
    {
     "data": {
      "application/vnd.jupyter.widget-view+json": {
       "model_id": "6820a12ee43b4ad48fd67c561099abff",
       "version_major": 2,
       "version_minor": 0
      },
      "text/plain": [
       "Downloading:   0%|          | 0.00/226k [00:00<?, ?B/s]"
      ]
     },
     "metadata": {},
     "output_type": "display_data"
    },
    {
     "data": {
      "application/vnd.jupyter.widget-view+json": {
       "model_id": "4b6bc95854b24f2aa8e782289586fa5c",
       "version_major": 2,
       "version_minor": 0
      },
      "text/plain": [
       "Downloading:   0%|          | 0.00/455k [00:00<?, ?B/s]"
      ]
     },
     "metadata": {},
     "output_type": "display_data"
    }
   ],
   "source": [
    "tokenizer = AutoTokenizer.from_pretrained(\"bert-base-uncased\")"
   ]
  },
  {
   "cell_type": "code",
   "execution_count": 7,
   "id": "9e69d5f1",
   "metadata": {
    "execution": {
     "iopub.execute_input": "2022-05-04T19:10:52.090101Z",
     "iopub.status.busy": "2022-05-04T19:10:52.089416Z",
     "iopub.status.idle": "2022-05-04T19:10:52.092195Z",
     "shell.execute_reply": "2022-05-04T19:10:52.092592Z",
     "shell.execute_reply.started": "2022-05-04T16:33:36.672472Z"
    },
    "papermill": {
     "duration": 0.041991,
     "end_time": "2022-05-04T19:10:52.092722",
     "exception": false,
     "start_time": "2022-05-04T19:10:52.050731",
     "status": "completed"
    },
    "tags": []
   },
   "outputs": [
    {
     "data": {
      "text/plain": [
       "30522"
      ]
     },
     "execution_count": 7,
     "metadata": {},
     "output_type": "execute_result"
    }
   ],
   "source": [
    "vocab_size = tokenizer.vocab_size\n",
    "vocab_size"
   ]
  },
  {
   "cell_type": "code",
   "execution_count": 8,
   "id": "17c12169",
   "metadata": {
    "execution": {
     "iopub.execute_input": "2022-05-04T19:10:52.171391Z",
     "iopub.status.busy": "2022-05-04T19:10:52.166774Z",
     "iopub.status.idle": "2022-05-04T19:11:03.172790Z",
     "shell.execute_reply": "2022-05-04T19:11:03.173396Z",
     "shell.execute_reply.started": "2022-05-04T16:33:36.679780Z"
    },
    "papermill": {
     "duration": 11.046343,
     "end_time": "2022-05-04T19:11:03.173608",
     "exception": false,
     "start_time": "2022-05-04T19:10:52.127265",
     "status": "completed"
    },
    "tags": []
   },
   "outputs": [
    {
     "name": "stdout",
     "output_type": "stream",
     "text": [
      "312\n"
     ]
    }
   ],
   "source": [
    "def calc_max_length(df, tokenizer):\n",
    "    '''\n",
    "    Calculate the max length of all sentences in training data\n",
    "    Parameters:\n",
    "        df: training data\n",
    "        tokenizer: pretrained tokenizer\n",
    "    Returns:\n",
    "        the sum of max length of patient history and feature text\n",
    "    '''\n",
    "    history_length = []\n",
    "    feature_length = []\n",
    "    text1 = df['pn_history'].fillna(\"\").values\n",
    "    text2 = df['feature_text'].fillna(\"\").values\n",
    "    for i, j in zip(text1, text2):\n",
    "        history_length.append(len(tokenizer(i, add_special_tokens=False)['input_ids']))\n",
    "        feature_length.append(len(tokenizer(j, add_special_tokens=False)['input_ids']))\n",
    "    return max(history_length)+max(feature_length)+3\n",
    "        \n",
    "max_length = calc_max_length(data, tokenizer)\n",
    "print(max_length)"
   ]
  },
  {
   "cell_type": "code",
   "execution_count": 9,
   "id": "f915160a",
   "metadata": {
    "execution": {
     "iopub.execute_input": "2022-05-04T19:11:03.252782Z",
     "iopub.status.busy": "2022-05-04T19:11:03.251975Z",
     "iopub.status.idle": "2022-05-04T19:11:03.253961Z",
     "shell.execute_reply": "2022-05-04T19:11:03.254329Z",
     "shell.execute_reply.started": "2022-05-04T16:33:47.436732Z"
    },
    "papermill": {
     "duration": 0.044946,
     "end_time": "2022-05-04T19:11:03.254467",
     "exception": false,
     "start_time": "2022-05-04T19:11:03.209521",
     "status": "completed"
    },
    "tags": []
   },
   "outputs": [],
   "source": [
    "def create_label(text, feature, location_list):\n",
    "    '''\n",
    "    Convert the character level location into word level label and get input\n",
    "    Parameters:\n",
    "        text: patient history in train data\n",
    "        feature: feature text in train data\n",
    "        location_list: location in train data\n",
    "    Returns:\n",
    "        tokenized input data and label which consists of 0,1,-100\n",
    "    '''\n",
    "    inputs = tokenizer(text, feature,\n",
    "                        add_special_tokens=True,\n",
    "                        max_length=max_length,\n",
    "                        padding=\"max_length\",\n",
    "                        return_offsets_mapping=True)\n",
    "    inputs[\"sequence_ids\"] = inputs.sequence_ids()\n",
    "    offset_mapping = inputs[\"offset_mapping\"]\n",
    "    label = np.zeros(len(offset_mapping))\n",
    "    for index, (token_id, offset) in enumerate(zip(inputs[\"sequence_ids\"], offset_mapping)):\n",
    "        if token_id == None or token_id == 1:\n",
    "            label[index] = -100\n",
    "            continue\n",
    "        token_start, token_end = offset\n",
    "        for i in location_list:\n",
    "            for loc in [s.split() for s in i.split(';')]:\n",
    "                start, end = int(loc[0]), int(loc[1])\n",
    "                if token_start > int(start) and token_end < int(end):\n",
    "                    label[index] = 1\n",
    "    \n",
    "    return inputs, label\n",
    "                "
   ]
  },
  {
   "cell_type": "code",
   "execution_count": 10,
   "id": "9f68e43a",
   "metadata": {
    "execution": {
     "iopub.execute_input": "2022-05-04T19:11:03.329067Z",
     "iopub.status.busy": "2022-05-04T19:11:03.328298Z",
     "iopub.status.idle": "2022-05-04T19:11:03.333390Z",
     "shell.execute_reply": "2022-05-04T19:11:03.334000Z",
     "shell.execute_reply.started": "2022-05-04T16:33:47.450451Z"
    },
    "papermill": {
     "duration": 0.045032,
     "end_time": "2022-05-04T19:11:03.334162",
     "exception": false,
     "start_time": "2022-05-04T19:11:03.289130",
     "status": "completed"
    },
    "tags": []
   },
   "outputs": [
    {
     "name": "stdout",
     "output_type": "stream",
     "text": [
      "['668 693']\n"
     ]
    }
   ],
   "source": [
    "example_data = data.iloc[1]\n",
    "print(example_data['location'])\n",
    "inputs, label = create_label(example_data['pn_history'], example_data['feature_text'], example_data['location'])\n"
   ]
  },
  {
   "cell_type": "code",
   "execution_count": 11,
   "id": "9f190ddb",
   "metadata": {
    "execution": {
     "iopub.execute_input": "2022-05-04T19:11:03.412495Z",
     "iopub.status.busy": "2022-05-04T19:11:03.411725Z",
     "iopub.status.idle": "2022-05-04T19:11:03.413659Z",
     "shell.execute_reply": "2022-05-04T19:11:03.414059Z",
     "shell.execute_reply.started": "2022-05-04T16:33:47.463265Z"
    },
    "papermill": {
     "duration": 0.044221,
     "end_time": "2022-05-04T19:11:03.414188",
     "exception": false,
     "start_time": "2022-05-04T19:11:03.369967",
     "status": "completed"
    },
    "tags": []
   },
   "outputs": [],
   "source": [
    "class nbme_dataset(Dataset):\n",
    "    def __init__(self, df):\n",
    "        self.data = df\n",
    "        \n",
    "    def __len__(self):\n",
    "        return len(self.data)\n",
    "    \n",
    "    def __getitem__(self, item):\n",
    "        example = self.data.iloc[item]\n",
    "        inputs, label = create_label(example['pn_history'], example['feature_text'], example['location'])\n",
    "        return np.array(inputs[\"input_ids\"]), np.array(inputs[\"attention_mask\"]), np.array(inputs['sequence_ids']).astype(\"float16\"), np.array(inputs[\"offset_mapping\"]), label"
   ]
  },
  {
   "cell_type": "code",
   "execution_count": 12,
   "id": "bc2a266a",
   "metadata": {
    "execution": {
     "iopub.execute_input": "2022-05-04T19:11:03.492201Z",
     "iopub.status.busy": "2022-05-04T19:11:03.491398Z",
     "iopub.status.idle": "2022-05-04T19:11:03.493965Z",
     "shell.execute_reply": "2022-05-04T19:11:03.493500Z",
     "shell.execute_reply.started": "2022-05-04T16:33:47.472276Z"
    },
    "papermill": {
     "duration": 0.044439,
     "end_time": "2022-05-04T19:11:03.494073",
     "exception": false,
     "start_time": "2022-05-04T19:11:03.449634",
     "status": "completed"
    },
    "tags": []
   },
   "outputs": [],
   "source": [
    "class bert_model(torch.nn.Module):\n",
    "    \"\"\"Bert model for this project\"\"\"\n",
    "    def __init__(self):\n",
    "        super().__init__()\n",
    "        self.backbone = AutoModel.from_pretrained(\"../input/huggingface-bert/bert-base-uncased\")\n",
    "        self.fc = torch.nn.Linear(768, 1)\n",
    "        self.dropout = torch.nn.Dropout(p=0.2)\n",
    "    \n",
    "    def forward(self, input_ids, attention_mask):\n",
    "        last_hidden_state = self.backbone(input_ids = input_ids, attention_mask = attention_mask)[0]\n",
    "        output = self.fc(self.dropout(last_hidden_state)).squeeze(-1)\n",
    "        return output"
   ]
  },
  {
   "cell_type": "code",
   "execution_count": 13,
   "id": "c4b76729",
   "metadata": {
    "execution": {
     "iopub.execute_input": "2022-05-04T19:11:03.572156Z",
     "iopub.status.busy": "2022-05-04T19:11:03.571309Z",
     "iopub.status.idle": "2022-05-04T19:11:03.573163Z",
     "shell.execute_reply": "2022-05-04T19:11:03.573571Z",
     "shell.execute_reply.started": "2022-05-04T16:33:47.483146Z"
    },
    "papermill": {
     "duration": 0.043533,
     "end_time": "2022-05-04T19:11:03.573700",
     "exception": false,
     "start_time": "2022-05-04T19:11:03.530167",
     "status": "completed"
    },
    "tags": []
   },
   "outputs": [],
   "source": [
    "class nbme_model_nn(torch.nn.Module):\n",
    "    \"\"\"Neural network model for this project\"\"\"\n",
    "    def __init__(self):\n",
    "        super().__init__()\n",
    "        self.word_embeddings = torch.nn.Embedding(vocab_size, 300)\n",
    "        self.linear1 = torch.nn.Linear(300,256)\n",
    "        self.linear2 = torch.nn.Linear(256,1)\n",
    "        \n",
    "    def forward(self,input_ids):\n",
    "        embeds = self.word_embeddings(input_ids)\n",
    "        output = self.linear1(embeds)\n",
    "        output = self.linear2(output)\n",
    "        return output.squeeze(-1)"
   ]
  },
  {
   "cell_type": "code",
   "execution_count": 14,
   "id": "e950aeef",
   "metadata": {
    "execution": {
     "iopub.execute_input": "2022-05-04T19:11:03.651219Z",
     "iopub.status.busy": "2022-05-04T19:11:03.650467Z",
     "iopub.status.idle": "2022-05-04T19:11:03.652814Z",
     "shell.execute_reply": "2022-05-04T19:11:03.652406Z",
     "shell.execute_reply.started": "2022-05-04T18:22:49.094105Z"
    },
    "papermill": {
     "duration": 0.044139,
     "end_time": "2022-05-04T19:11:03.652954",
     "exception": false,
     "start_time": "2022-05-04T19:11:03.608815",
     "status": "completed"
    },
    "tags": []
   },
   "outputs": [],
   "source": [
    "class lstm_model(torch.nn.Module):\n",
    "    \"\"\"Lstm model for this project\"\"\"\n",
    "    def __init__(self):\n",
    "        super().__init__()\n",
    "        self.embedding = torch.nn.Embedding(vocab_size,300)\n",
    "        self.lstm = torch.nn.LSTM(300, 312)\n",
    "        self.linear1 = torch.nn.Linear(312,256)\n",
    "        self.linear2 = torch.nn.Linear(256,1)\n",
    "        \n",
    "    def forward(self,input_ids):\n",
    "        inputs = self.embedding(input_ids)\n",
    "        x, _ = self.lstm(inputs, None)\n",
    "        output = self.linear1(x)\n",
    "        output = self.linear2(output)\n",
    "        return output.squeeze(-1)"
   ]
  },
  {
   "cell_type": "code",
   "execution_count": 15,
   "id": "6b3fdcdd",
   "metadata": {
    "execution": {
     "iopub.execute_input": "2022-05-04T19:11:03.730743Z",
     "iopub.status.busy": "2022-05-04T19:11:03.729905Z",
     "iopub.status.idle": "2022-05-04T19:11:03.731743Z",
     "shell.execute_reply": "2022-05-04T19:11:03.732193Z",
     "shell.execute_reply.started": "2022-05-04T16:33:47.502860Z"
    },
    "papermill": {
     "duration": 0.043155,
     "end_time": "2022-05-04T19:11:03.732320",
     "exception": false,
     "start_time": "2022-05-04T19:11:03.689165",
     "status": "completed"
    },
    "tags": []
   },
   "outputs": [],
   "source": [
    "# ====================================================\n",
    "# Helper functions\n",
    "# ====================================================\n",
    "class AverageMeter(object):\n",
    "    \"\"\"Computes and stores the average and current value\"\"\"\n",
    "    def __init__(self):\n",
    "        self.reset()\n",
    "\n",
    "    def reset(self):\n",
    "        self.val = 0\n",
    "        self.avg = 0\n",
    "        self.sum = 0\n",
    "        self.count = 0\n",
    "\n",
    "    def update(self, val, n=1):\n",
    "        self.val = val\n",
    "        self.sum += val * n\n",
    "        self.count += n\n",
    "        self.avg = self.sum / self.count"
   ]
  },
  {
   "cell_type": "code",
   "execution_count": 16,
   "id": "45d88ffb",
   "metadata": {
    "execution": {
     "iopub.execute_input": "2022-05-04T19:11:03.867816Z",
     "iopub.status.busy": "2022-05-04T19:11:03.867159Z",
     "iopub.status.idle": "2022-05-04T19:11:14.523242Z",
     "shell.execute_reply": "2022-05-04T19:11:14.522721Z",
     "shell.execute_reply.started": "2022-05-04T18:22:53.126627Z"
    },
    "papermill": {
     "duration": 10.755838,
     "end_time": "2022-05-04T19:11:14.523384",
     "exception": false,
     "start_time": "2022-05-04T19:11:03.767546",
     "status": "completed"
    },
    "tags": []
   },
   "outputs": [
    {
     "name": "stderr",
     "output_type": "stream",
     "text": [
      "Some weights of the model checkpoint at ../input/huggingface-bert/bert-base-uncased were not used when initializing BertModel: ['cls.predictions.bias', 'cls.seq_relationship.weight', 'cls.predictions.decoder.weight', 'cls.predictions.transform.dense.bias', 'cls.seq_relationship.bias', 'cls.predictions.transform.LayerNorm.weight', 'cls.predictions.transform.LayerNorm.bias', 'cls.predictions.transform.dense.weight']\n",
      "- This IS expected if you are initializing BertModel from the checkpoint of a model trained on another task or with another architecture (e.g. initializing a BertForSequenceClassification model from a BertForPreTraining model).\n",
      "- This IS NOT expected if you are initializing BertModel from the checkpoint of a model that you expect to be exactly identical (initializing a BertForSequenceClassification model from a BertForSequenceClassification model).\n"
     ]
    }
   ],
   "source": [
    "fold = 0\n",
    "BATCH_SIZE = 16\n",
    "epochs = 10\n",
    "device = \"cuda\" if torch.cuda.is_available() else \"cpu\"\n",
    "nn_model = nbme_model_nn().to(device)\n",
    "lstm_model = lstm_model().to(device)\n",
    "bert_model = bert_model().to(device)\n",
    "\n",
    "train_data = data.loc[data['fold'] != fold].reset_index(drop=True)\n",
    "val_data = data.loc[data['fold'] == fold].reset_index(drop=True)\n",
    "\n",
    "train = nbme_dataset(train_data)\n",
    "val = nbme_dataset(val_data)\n",
    "train_dl = torch.utils.data.DataLoader(train, batch_size = BATCH_SIZE, pin_memory = True, shuffle = True, drop_last = True)\n",
    "valid_dl = torch.utils.data.DataLoader(val, batch_size = BATCH_SIZE, pin_memory = True, shuffle = False, drop_last = False)"
   ]
  },
  {
   "cell_type": "code",
   "execution_count": 17,
   "id": "bcd689f3",
   "metadata": {
    "execution": {
     "iopub.execute_input": "2022-05-04T19:11:14.603126Z",
     "iopub.status.busy": "2022-05-04T19:11:14.602470Z",
     "iopub.status.idle": "2022-05-04T19:15:19.372943Z",
     "shell.execute_reply": "2022-05-04T19:15:19.370223Z",
     "shell.execute_reply.started": "2022-05-04T16:33:56.327632Z"
    },
    "papermill": {
     "duration": 244.813901,
     "end_time": "2022-05-04T19:15:19.373115",
     "exception": false,
     "start_time": "2022-05-04T19:11:14.559214",
     "status": "completed"
    },
    "tags": []
   },
   "outputs": [
    {
     "name": "stderr",
     "output_type": "stream",
     "text": [
      "100%|██████████| 715/715 [00:25<00:00, 28.32it/s]\n"
     ]
    },
    {
     "name": "stdout",
     "output_type": "stream",
     "text": [
      "0 0.5224170021567316\n"
     ]
    },
    {
     "name": "stderr",
     "output_type": "stream",
     "text": [
      "100%|██████████| 715/715 [00:24<00:00, 29.31it/s]\n"
     ]
    },
    {
     "name": "stdout",
     "output_type": "stream",
     "text": [
      "1 0.35396581467427274\n"
     ]
    },
    {
     "name": "stderr",
     "output_type": "stream",
     "text": [
      "100%|██████████| 715/715 [00:23<00:00, 29.98it/s]\n"
     ]
    },
    {
     "name": "stdout",
     "output_type": "stream",
     "text": [
      "2 0.2712135445435105\n"
     ]
    },
    {
     "name": "stderr",
     "output_type": "stream",
     "text": [
      "100%|██████████| 715/715 [00:24<00:00, 28.95it/s]\n"
     ]
    },
    {
     "name": "stdout",
     "output_type": "stream",
     "text": [
      "3 0.21934493416452133\n"
     ]
    },
    {
     "name": "stderr",
     "output_type": "stream",
     "text": [
      "100%|██████████| 715/715 [00:24<00:00, 29.42it/s]\n"
     ]
    },
    {
     "name": "stdout",
     "output_type": "stream",
     "text": [
      "4 0.18256418626311563\n"
     ]
    },
    {
     "name": "stderr",
     "output_type": "stream",
     "text": [
      "100%|██████████| 715/715 [00:24<00:00, 29.20it/s]\n"
     ]
    },
    {
     "name": "stdout",
     "output_type": "stream",
     "text": [
      "5 0.1547514969597577\n"
     ]
    },
    {
     "name": "stderr",
     "output_type": "stream",
     "text": [
      "100%|██████████| 715/715 [00:23<00:00, 29.96it/s]\n"
     ]
    },
    {
     "name": "stdout",
     "output_type": "stream",
     "text": [
      "6 0.1328908109004355\n"
     ]
    },
    {
     "name": "stderr",
     "output_type": "stream",
     "text": [
      "100%|██████████| 715/715 [00:24<00:00, 29.39it/s]\n"
     ]
    },
    {
     "name": "stdout",
     "output_type": "stream",
     "text": [
      "7 0.11527356297827235\n"
     ]
    },
    {
     "name": "stderr",
     "output_type": "stream",
     "text": [
      "100%|██████████| 715/715 [00:24<00:00, 28.95it/s]\n"
     ]
    },
    {
     "name": "stdout",
     "output_type": "stream",
     "text": [
      "8 0.10085844336667106\n"
     ]
    },
    {
     "name": "stderr",
     "output_type": "stream",
     "text": [
      "100%|██████████| 715/715 [00:24<00:00, 29.55it/s]"
     ]
    },
    {
     "name": "stdout",
     "output_type": "stream",
     "text": [
      "9 0.08892974400309736\n"
     ]
    },
    {
     "name": "stderr",
     "output_type": "stream",
     "text": [
      "\n"
     ]
    }
   ],
   "source": [
    "criterion = torch.nn.BCEWithLogitsLoss()\n",
    "optimizer = torch.optim.AdamW(nn_model.parameters(), lr = 1e-5)\n",
    "nn_loss = []\n",
    "for epoch in range(epochs):\n",
    "    nn_model.train()\n",
    "    train_loss = AverageMeter()\n",
    "    for m in tqdm(train_dl):\n",
    "        inputs = m[0].to(device)\n",
    "        labels = m[4].to(device)\n",
    "        predict = nn_model(inputs)\n",
    "        loss_fct = torch.nn.BCEWithLogitsLoss(reduction = \"none\")\n",
    "        loss = loss_fct(predict, labels)\n",
    "        loss = torch.masked_select(loss, labels > -1).mean()\n",
    "        loss.backward()\n",
    "        optimizer.step()\n",
    "        train_loss.update(val = loss.item(), n = len(inputs))\n",
    "        optimizer.zero_grad()\n",
    "    nn_loss.append(train_loss.avg)\n",
    "    print(epoch, train_loss.avg)"
   ]
  },
  {
   "cell_type": "code",
   "execution_count": 18,
   "id": "51245e40",
   "metadata": {
    "execution": {
     "iopub.execute_input": "2022-05-04T19:15:21.126394Z",
     "iopub.status.busy": "2022-05-04T19:15:21.125590Z",
     "iopub.status.idle": "2022-05-04T19:15:26.403915Z",
     "shell.execute_reply": "2022-05-04T19:15:26.403423Z",
     "shell.execute_reply.started": "2022-05-04T16:38:19.303966Z"
    },
    "papermill": {
     "duration": 6.257682,
     "end_time": "2022-05-04T19:15:26.404046",
     "exception": false,
     "start_time": "2022-05-04T19:15:20.146364",
     "status": "completed"
    },
    "tags": []
   },
   "outputs": [
    {
     "name": "stderr",
     "output_type": "stream",
     "text": [
      "100%|██████████| 179/179 [00:05<00:00, 33.95it/s]\n"
     ]
    }
   ],
   "source": [
    "nn_model.eval()\n",
    "preds1 = []\n",
    "offsets1 = []\n",
    "seq_ids1 = []\n",
    "lbls1 = []\n",
    "with torch.no_grad():\n",
    "    for m in tqdm(valid_dl):\n",
    "        inputs = m[0].to(device)\n",
    "        labels = m[4].to(device)\n",
    "        logits = nn_model(inputs)\n",
    "        preds1.append(logits.cpu().numpy())\n",
    "        offsets1.append(m[3].numpy())\n",
    "        seq_ids1.append(m[2].numpy())\n",
    "        lbls1.append(labels.cpu().numpy())"
   ]
  },
  {
   "cell_type": "code",
   "execution_count": 19,
   "id": "a4bbfb11",
   "metadata": {
    "execution": {
     "iopub.execute_input": "2022-05-04T19:15:27.657986Z",
     "iopub.status.busy": "2022-05-04T19:15:27.657403Z",
     "iopub.status.idle": "2022-05-04T19:15:27.758418Z",
     "shell.execute_reply": "2022-05-04T19:15:27.757812Z",
     "shell.execute_reply.started": "2022-05-04T19:08:20.114996Z"
    },
    "papermill": {
     "duration": 0.73254,
     "end_time": "2022-05-04T19:15:27.758564",
     "exception": false,
     "start_time": "2022-05-04T19:15:27.026024",
     "status": "completed"
    },
    "tags": []
   },
   "outputs": [],
   "source": [
    "torch.save(nn_model.state_dict(), \"nn.pt\")"
   ]
  },
  {
   "cell_type": "code",
   "execution_count": 20,
   "id": "f660e8da",
   "metadata": {
    "execution": {
     "iopub.execute_input": "2022-05-04T19:15:29.028031Z",
     "iopub.status.busy": "2022-05-04T19:15:29.026899Z",
     "iopub.status.idle": "2022-05-04T19:15:29.038930Z",
     "shell.execute_reply": "2022-05-04T19:15:29.038487Z",
     "shell.execute_reply.started": "2022-05-04T16:38:25.784725Z"
    },
    "papermill": {
     "duration": 0.640849,
     "end_time": "2022-05-04T19:15:29.039063",
     "exception": false,
     "start_time": "2022-05-04T19:15:28.398214",
     "status": "completed"
    },
    "tags": []
   },
   "outputs": [],
   "source": [
    "preds1 = np.concatenate(preds1, axis = 0)\n",
    "offsets1 = np.concatenate(offsets1, axis = 0)\n",
    "seq_ids1 = np.concatenate(seq_ids1, axis = 0)\n",
    "lbls1 = np.concatenate(lbls1, axis = 0)"
   ]
  },
  {
   "cell_type": "code",
   "execution_count": 21,
   "id": "35e994fc",
   "metadata": {
    "execution": {
     "iopub.execute_input": "2022-05-04T19:15:30.561243Z",
     "iopub.status.busy": "2022-05-04T19:15:30.560431Z",
     "iopub.status.idle": "2022-05-04T19:20:17.417536Z",
     "shell.execute_reply": "2022-05-04T19:20:17.413327Z",
     "shell.execute_reply.started": "2022-05-04T18:22:57.795546Z"
    },
    "papermill": {
     "duration": 287.488268,
     "end_time": "2022-05-04T19:20:17.417705",
     "exception": false,
     "start_time": "2022-05-04T19:15:29.929437",
     "status": "completed"
    },
    "tags": []
   },
   "outputs": [
    {
     "name": "stderr",
     "output_type": "stream",
     "text": [
      "100%|██████████| 715/715 [00:28<00:00, 25.26it/s]\n"
     ]
    },
    {
     "name": "stdout",
     "output_type": "stream",
     "text": [
      "0 0.3034160935416851\n"
     ]
    },
    {
     "name": "stderr",
     "output_type": "stream",
     "text": [
      "100%|██████████| 715/715 [00:28<00:00, 24.99it/s]\n"
     ]
    },
    {
     "name": "stdout",
     "output_type": "stream",
     "text": [
      "1 0.08779670990642797\n"
     ]
    },
    {
     "name": "stderr",
     "output_type": "stream",
     "text": [
      "100%|██████████| 715/715 [00:27<00:00, 25.69it/s]\n"
     ]
    },
    {
     "name": "stdout",
     "output_type": "stream",
     "text": [
      "2 0.06611906930872646\n"
     ]
    },
    {
     "name": "stderr",
     "output_type": "stream",
     "text": [
      "100%|██████████| 715/715 [00:28<00:00, 25.07it/s]\n"
     ]
    },
    {
     "name": "stdout",
     "output_type": "stream",
     "text": [
      "3 0.055282034509703516\n"
     ]
    },
    {
     "name": "stderr",
     "output_type": "stream",
     "text": [
      "100%|██████████| 715/715 [00:28<00:00, 25.20it/s]\n"
     ]
    },
    {
     "name": "stdout",
     "output_type": "stream",
     "text": [
      "4 0.04924533328617054\n"
     ]
    },
    {
     "name": "stderr",
     "output_type": "stream",
     "text": [
      "100%|██████████| 715/715 [00:28<00:00, 24.89it/s]\n"
     ]
    },
    {
     "name": "stdout",
     "output_type": "stream",
     "text": [
      "5 0.04558541362488543\n"
     ]
    },
    {
     "name": "stderr",
     "output_type": "stream",
     "text": [
      "100%|██████████| 715/715 [00:28<00:00, 24.76it/s]\n"
     ]
    },
    {
     "name": "stdout",
     "output_type": "stream",
     "text": [
      "6 0.04346493909996819\n"
     ]
    },
    {
     "name": "stderr",
     "output_type": "stream",
     "text": [
      "100%|██████████| 715/715 [00:28<00:00, 24.85it/s]\n"
     ]
    },
    {
     "name": "stdout",
     "output_type": "stream",
     "text": [
      "7 0.04191861269599589\n"
     ]
    },
    {
     "name": "stderr",
     "output_type": "stream",
     "text": [
      "100%|██████████| 715/715 [00:29<00:00, 24.63it/s]\n"
     ]
    },
    {
     "name": "stdout",
     "output_type": "stream",
     "text": [
      "8 0.04084800148075418\n"
     ]
    },
    {
     "name": "stderr",
     "output_type": "stream",
     "text": [
      "100%|██████████| 715/715 [00:28<00:00, 25.20it/s]"
     ]
    },
    {
     "name": "stdout",
     "output_type": "stream",
     "text": [
      "9 0.04006424077207284\n"
     ]
    },
    {
     "name": "stderr",
     "output_type": "stream",
     "text": [
      "\n"
     ]
    }
   ],
   "source": [
    "criterion = torch.nn.BCEWithLogitsLoss()\n",
    "optimizer = torch.optim.AdamW(lstm_model.parameters(), lr = 1e-5)\n",
    "lstm_loss = []\n",
    "for epoch in range(epochs):\n",
    "    lstm_model.train()\n",
    "    train_loss = AverageMeter()\n",
    "    for m in tqdm(train_dl):\n",
    "        inputs = m[0].to(device)\n",
    "        labels = m[4].to(device)\n",
    "        predict = lstm_model(inputs)\n",
    "        loss_fct = torch.nn.BCEWithLogitsLoss(reduction = \"none\")\n",
    "        loss = loss_fct(predict, labels)\n",
    "        loss = torch.masked_select(loss, labels > -1).mean()\n",
    "        loss.backward()\n",
    "        optimizer.step()\n",
    "        train_loss.update(val = loss.item(), n = len(inputs))\n",
    "        optimizer.zero_grad()\n",
    "    lstm_loss.append(train_loss.avg)\n",
    "    print(epoch, train_loss.avg)"
   ]
  },
  {
   "cell_type": "code",
   "execution_count": 22,
   "id": "03e9a9b3",
   "metadata": {
    "execution": {
     "iopub.execute_input": "2022-05-04T19:20:20.163615Z",
     "iopub.status.busy": "2022-05-04T19:20:20.162656Z",
     "iopub.status.idle": "2022-05-04T19:20:20.264292Z",
     "shell.execute_reply": "2022-05-04T19:20:20.263769Z"
    },
    "papermill": {
     "duration": 1.478104,
     "end_time": "2022-05-04T19:20:20.264430",
     "exception": false,
     "start_time": "2022-05-04T19:20:18.786326",
     "status": "completed"
    },
    "tags": []
   },
   "outputs": [],
   "source": [
    "torch.save(lstm_model.state_dict(), \"lstm.pt\")"
   ]
  },
  {
   "cell_type": "code",
   "execution_count": 23,
   "id": "14501491",
   "metadata": {
    "execution": {
     "iopub.execute_input": "2022-05-04T19:20:23.017570Z",
     "iopub.status.busy": "2022-05-04T19:20:23.016558Z",
     "iopub.status.idle": "2022-05-04T19:20:29.006234Z",
     "shell.execute_reply": "2022-05-04T19:20:29.004642Z",
     "shell.execute_reply.started": "2022-05-04T18:28:06.803936Z"
    },
    "papermill": {
     "duration": 7.366088,
     "end_time": "2022-05-04T19:20:29.006396",
     "exception": false,
     "start_time": "2022-05-04T19:20:21.640308",
     "status": "completed"
    },
    "tags": []
   },
   "outputs": [
    {
     "name": "stderr",
     "output_type": "stream",
     "text": [
      "100%|██████████| 179/179 [00:05<00:00, 29.93it/s]\n"
     ]
    }
   ],
   "source": [
    "lstm_model.eval()\n",
    "preds2 = []\n",
    "offsets2 = []\n",
    "seq_ids2 = []\n",
    "lbls2 = []\n",
    "with torch.no_grad():\n",
    "    for m in tqdm(valid_dl):\n",
    "        inputs = m[0].to(device)\n",
    "        labels = m[4].to(device)\n",
    "        logits = lstm_model(inputs)\n",
    "        preds2.append(logits.cpu().numpy())\n",
    "        offsets2.append(m[3].numpy())\n",
    "        seq_ids2.append(m[2].numpy())\n",
    "        lbls2.append(labels.cpu().numpy())"
   ]
  },
  {
   "cell_type": "code",
   "execution_count": 24,
   "id": "feab4d01",
   "metadata": {
    "execution": {
     "iopub.execute_input": "2022-05-04T19:20:31.861764Z",
     "iopub.status.busy": "2022-05-04T19:20:31.860778Z",
     "iopub.status.idle": "2022-05-04T19:20:31.872064Z",
     "shell.execute_reply": "2022-05-04T19:20:31.871620Z",
     "shell.execute_reply.started": "2022-05-04T18:28:17.638699Z"
    },
    "papermill": {
     "duration": 1.475766,
     "end_time": "2022-05-04T19:20:31.872190",
     "exception": false,
     "start_time": "2022-05-04T19:20:30.396424",
     "status": "completed"
    },
    "tags": []
   },
   "outputs": [],
   "source": [
    "preds2 = np.concatenate(preds2, axis = 0)\n",
    "offsets2 = np.concatenate(offsets2, axis = 0)\n",
    "seq_ids2 = np.concatenate(seq_ids2, axis = 0)\n",
    "lbls2 = np.concatenate(lbls2, axis = 0)"
   ]
  },
  {
   "cell_type": "code",
   "execution_count": 25,
   "id": "474f704d",
   "metadata": {
    "execution": {
     "iopub.execute_input": "2022-05-04T19:20:34.633205Z",
     "iopub.status.busy": "2022-05-04T19:20:34.632196Z",
     "iopub.status.idle": "2022-05-04T20:25:51.316634Z",
     "shell.execute_reply": "2022-05-04T20:25:51.316186Z",
     "shell.execute_reply.started": "2022-05-04T16:52:40.017854Z"
    },
    "papermill": {
     "duration": 3918.069094,
     "end_time": "2022-05-04T20:25:51.316764",
     "exception": false,
     "start_time": "2022-05-04T19:20:33.247670",
     "status": "completed"
    },
    "tags": []
   },
   "outputs": [
    {
     "name": "stderr",
     "output_type": "stream",
     "text": [
      "100%|██████████| 715/715 [06:31<00:00,  1.83it/s]\n"
     ]
    },
    {
     "name": "stdout",
     "output_type": "stream",
     "text": [
      "0 0.036247783430580306\n"
     ]
    },
    {
     "name": "stderr",
     "output_type": "stream",
     "text": [
      "100%|██████████| 715/715 [06:30<00:00,  1.83it/s]\n"
     ]
    },
    {
     "name": "stdout",
     "output_type": "stream",
     "text": [
      "1 0.01780333685825815\n"
     ]
    },
    {
     "name": "stderr",
     "output_type": "stream",
     "text": [
      "100%|██████████| 715/715 [06:31<00:00,  1.83it/s]\n"
     ]
    },
    {
     "name": "stdout",
     "output_type": "stream",
     "text": [
      "2 0.01252327534280461\n"
     ]
    },
    {
     "name": "stderr",
     "output_type": "stream",
     "text": [
      "100%|██████████| 715/715 [06:31<00:00,  1.83it/s]\n"
     ]
    },
    {
     "name": "stdout",
     "output_type": "stream",
     "text": [
      "3 0.009615893895897277\n"
     ]
    },
    {
     "name": "stderr",
     "output_type": "stream",
     "text": [
      "100%|██████████| 715/715 [06:30<00:00,  1.83it/s]\n"
     ]
    },
    {
     "name": "stdout",
     "output_type": "stream",
     "text": [
      "4 0.007703475326453203\n"
     ]
    },
    {
     "name": "stderr",
     "output_type": "stream",
     "text": [
      "100%|██████████| 715/715 [06:31<00:00,  1.83it/s]\n"
     ]
    },
    {
     "name": "stdout",
     "output_type": "stream",
     "text": [
      "5 0.006146018892208467\n"
     ]
    },
    {
     "name": "stderr",
     "output_type": "stream",
     "text": [
      "100%|██████████| 715/715 [06:32<00:00,  1.82it/s]\n"
     ]
    },
    {
     "name": "stdout",
     "output_type": "stream",
     "text": [
      "6 0.004970317665289673\n"
     ]
    },
    {
     "name": "stderr",
     "output_type": "stream",
     "text": [
      "100%|██████████| 715/715 [06:31<00:00,  1.82it/s]\n"
     ]
    },
    {
     "name": "stdout",
     "output_type": "stream",
     "text": [
      "7 0.004107565937651289\n"
     ]
    },
    {
     "name": "stderr",
     "output_type": "stream",
     "text": [
      "100%|██████████| 715/715 [06:32<00:00,  1.82it/s]\n"
     ]
    },
    {
     "name": "stdout",
     "output_type": "stream",
     "text": [
      "8 0.003378770847620614\n"
     ]
    },
    {
     "name": "stderr",
     "output_type": "stream",
     "text": [
      "100%|██████████| 715/715 [06:32<00:00,  1.82it/s]"
     ]
    },
    {
     "name": "stdout",
     "output_type": "stream",
     "text": [
      "9 0.002871411532589652\n"
     ]
    },
    {
     "name": "stderr",
     "output_type": "stream",
     "text": [
      "\n"
     ]
    }
   ],
   "source": [
    "criterion = torch.nn.BCEWithLogitsLoss()\n",
    "optimizer = torch.optim.AdamW(bert_model.parameters(), lr = 1e-5)\n",
    "bert_loss = []\n",
    "\n",
    "for epoch in range(epochs):\n",
    "    bert_model.train()\n",
    "    train_loss = AverageMeter()\n",
    "    for m in tqdm(train_dl):\n",
    "        inputs = m[0].to(device)\n",
    "        attention_mask = m[1].to(device)\n",
    "        labels = m[4].to(device)\n",
    "        predict = bert_model(inputs, attention_mask)\n",
    "        loss_fct = torch.nn.BCEWithLogitsLoss(reduction = \"none\")\n",
    "        loss = loss_fct(predict, labels)\n",
    "        loss = torch.masked_select(loss, labels > -1).mean()\n",
    "        loss.backward()\n",
    "        optimizer.step()\n",
    "        train_loss.update(val = loss.item(), n = len(inputs))\n",
    "        optimizer.zero_grad()\n",
    "    bert_loss.append(train_loss.avg)\n",
    "    print(epoch, train_loss.avg)"
   ]
  },
  {
   "cell_type": "code",
   "execution_count": 26,
   "id": "73e0b74a",
   "metadata": {
    "execution": {
     "iopub.execute_input": "2022-05-04T20:25:59.308458Z",
     "iopub.status.busy": "2022-05-04T20:25:59.307673Z",
     "iopub.status.idle": "2022-05-04T20:25:59.951457Z",
     "shell.execute_reply": "2022-05-04T20:25:59.950940Z"
    },
    "papermill": {
     "duration": 4.235243,
     "end_time": "2022-05-04T20:25:59.951581",
     "exception": false,
     "start_time": "2022-05-04T20:25:55.716338",
     "status": "completed"
    },
    "tags": []
   },
   "outputs": [],
   "source": [
    "torch.save(bert_model.state_dict(), \"bert.pt\")"
   ]
  },
  {
   "cell_type": "code",
   "execution_count": 27,
   "id": "e477be7f",
   "metadata": {
    "execution": {
     "iopub.execute_input": "2022-05-04T20:26:07.398719Z",
     "iopub.status.busy": "2022-05-04T20:26:07.397846Z",
     "iopub.status.idle": "2022-05-04T20:26:44.156803Z",
     "shell.execute_reply": "2022-05-04T20:26:44.156195Z",
     "shell.execute_reply.started": "2022-05-04T17:58:02.357272Z"
    },
    "papermill": {
     "duration": 40.583731,
     "end_time": "2022-05-04T20:26:44.156987",
     "exception": false,
     "start_time": "2022-05-04T20:26:03.573256",
     "status": "completed"
    },
    "tags": []
   },
   "outputs": [
    {
     "name": "stderr",
     "output_type": "stream",
     "text": [
      "100%|██████████| 179/179 [00:36<00:00,  4.87it/s]\n"
     ]
    }
   ],
   "source": [
    "bert_model.eval()\n",
    "preds = []\n",
    "offsets = []\n",
    "seq_ids = []\n",
    "lbls = []\n",
    "with torch.no_grad():\n",
    "    for m in tqdm(valid_dl):\n",
    "        inputs = m[0].to(device)\n",
    "        attention_mask = m[1].to(device)\n",
    "        labels = m[4].to(device)\n",
    "        logits = bert_model(inputs, attention_mask)\n",
    "        preds.append(logits.cpu().numpy())\n",
    "        offsets.append(m[3].numpy())\n",
    "        seq_ids.append(m[2].numpy())\n",
    "        lbls.append(labels.cpu().numpy())"
   ]
  },
  {
   "cell_type": "code",
   "execution_count": 28,
   "id": "545e9215",
   "metadata": {
    "execution": {
     "iopub.execute_input": "2022-05-04T20:26:51.716515Z",
     "iopub.status.busy": "2022-05-04T20:26:51.715092Z",
     "iopub.status.idle": "2022-05-04T20:26:51.724624Z",
     "shell.execute_reply": "2022-05-04T20:26:51.724178Z",
     "shell.execute_reply.started": "2022-05-04T17:58:39.071547Z"
    },
    "papermill": {
     "duration": 3.95972,
     "end_time": "2022-05-04T20:26:51.724743",
     "exception": false,
     "start_time": "2022-05-04T20:26:47.765023",
     "status": "completed"
    },
    "tags": []
   },
   "outputs": [],
   "source": [
    "preds = np.concatenate(preds, axis = 0)\n",
    "offsets = np.concatenate(offsets, axis = 0)\n",
    "seq_ids = np.concatenate(seq_ids, axis = 0)\n",
    "lbls = np.concatenate(lbls, axis = 0)"
   ]
  },
  {
   "cell_type": "code",
   "execution_count": 29,
   "id": "a93b9dad",
   "metadata": {
    "execution": {
     "iopub.execute_input": "2022-05-04T20:26:59.054733Z",
     "iopub.status.busy": "2022-05-04T20:26:59.053830Z",
     "iopub.status.idle": "2022-05-04T20:26:59.055849Z",
     "shell.execute_reply": "2022-05-04T20:26:59.056261Z",
     "shell.execute_reply.started": "2022-05-04T17:58:39.088871Z"
    },
    "papermill": {
     "duration": 3.720354,
     "end_time": "2022-05-04T20:26:59.056401",
     "exception": false,
     "start_time": "2022-05-04T20:26:55.336047",
     "status": "completed"
    },
    "tags": []
   },
   "outputs": [],
   "source": [
    "def sigmoid(z):\n",
    "    return 1 / (1 + np.exp(-z))"
   ]
  },
  {
   "cell_type": "code",
   "execution_count": 30,
   "id": "f9e15866",
   "metadata": {
    "execution": {
     "iopub.execute_input": "2022-05-04T20:27:07.241983Z",
     "iopub.status.busy": "2022-05-04T20:27:07.241324Z",
     "iopub.status.idle": "2022-05-04T20:27:07.243675Z",
     "shell.execute_reply": "2022-05-04T20:27:07.244112Z",
     "shell.execute_reply.started": "2022-05-04T17:58:39.095503Z"
    },
    "papermill": {
     "duration": 3.674449,
     "end_time": "2022-05-04T20:27:07.244253",
     "exception": false,
     "start_time": "2022-05-04T20:27:03.569804",
     "status": "completed"
    },
    "tags": []
   },
   "outputs": [],
   "source": [
    "def get_loc_from_pred(preds, offsets, seq_ids):\n",
    "    '''\n",
    "    get the character level location from prediction\n",
    "    Parameters:\n",
    "        preds: the output of our model\n",
    "        offsets: the offsets from tokenized input sentence\n",
    "        seq_ids: the sequence id from tokenized input sentence\n",
    "    Returns:\n",
    "        the character level location list\n",
    "    '''\n",
    "    prediction = []\n",
    "    flag = 0\n",
    "    for i in range(preds.shape[0]):\n",
    "        temp_pred = []\n",
    "        pred = sigmoid(preds[i])\n",
    "        start = None\n",
    "        for j in range(preds.shape[1]):\n",
    "            if seq_ids[i][j] == None or seq_ids[i][j] == 1:\n",
    "                continue\n",
    "            if pred[j] > 0.5:\n",
    "                if start == None:\n",
    "                    start = offsets[i][j][0]\n",
    "                end = offsets[i][j][1]\n",
    "            elif start != None:\n",
    "                temp_pred.append((int(start), int(end)))\n",
    "                start = None\n",
    "        \n",
    "        prediction.append(temp_pred)\n",
    "                \n",
    "    return prediction"
   ]
  },
  {
   "cell_type": "code",
   "execution_count": 31,
   "id": "7509da5a",
   "metadata": {
    "execution": {
     "iopub.execute_input": "2022-05-04T20:27:14.811020Z",
     "iopub.status.busy": "2022-05-04T20:27:14.810210Z",
     "iopub.status.idle": "2022-05-04T20:27:14.812666Z",
     "shell.execute_reply": "2022-05-04T20:27:14.812267Z",
     "shell.execute_reply.started": "2022-05-04T17:58:39.108316Z"
    },
    "papermill": {
     "duration": 3.697441,
     "end_time": "2022-05-04T20:27:14.812782",
     "exception": false,
     "start_time": "2022-05-04T20:27:11.115341",
     "status": "completed"
    },
    "tags": []
   },
   "outputs": [],
   "source": [
    "def evaluate(pred_location, offsets, seq_id, labels):\n",
    "    '''\n",
    "    get the precision, recall, f1 score of the prediction\n",
    "    Parameters:\n",
    "        pred_location: the prediction location\n",
    "        offsets: the offsets from tokenized input sentence\n",
    "        seq_ids: the sequence id from tokenized input sentence\n",
    "        labels: word level labels which consist of 0,1,-100\n",
    "    Returns:\n",
    "        precision, recall, f1 score\n",
    "    '''\n",
    "    label = []\n",
    "    prediction = []\n",
    "    for i in range(labels.shape[0]):\n",
    "        character = max(list(chain(*offsets[i])))\n",
    "        char_label = np.zeros((character))\n",
    "        char_pred = np.zeros((character))\n",
    "        for j in range(labels.shape[1]):\n",
    "            if seq_id[i][j] == None or seq_id[i][j] == 1:\n",
    "                continue\n",
    "            if int(labels[i][j]) == 1:\n",
    "                char_label[offsets[i][j][0]:offsets[i][j][1]] = 1\n",
    "        if len(pred_location[i]) != 0:  \n",
    "            for (start, end) in pred_location[i]:\n",
    "                char_pred[start:end] = 1\n",
    "        label.extend(char_label)\n",
    "        prediction.extend(char_pred)\n",
    "    results = precision_recall_fscore_support(label, prediction, average='binary')\n",
    "    return results"
   ]
  },
  {
   "cell_type": "code",
   "execution_count": 32,
   "id": "d8f2d17c",
   "metadata": {
    "execution": {
     "iopub.execute_input": "2022-05-04T20:27:22.302208Z",
     "iopub.status.busy": "2022-05-04T20:27:22.297801Z",
     "iopub.status.idle": "2022-05-04T20:27:36.790518Z",
     "shell.execute_reply": "2022-05-04T20:27:36.790092Z",
     "shell.execute_reply.started": "2022-05-04T17:58:39.121845Z"
    },
    "papermill": {
     "duration": 18.357737,
     "end_time": "2022-05-04T20:27:36.790640",
     "exception": false,
     "start_time": "2022-05-04T20:27:18.432903",
     "status": "completed"
    },
    "tags": []
   },
   "outputs": [
    {
     "data": {
      "text/plain": [
       "(0.005381270837801478, 0.021393690411596, 0.008599470322480136, None)"
      ]
     },
     "execution_count": 32,
     "metadata": {},
     "output_type": "execute_result"
    }
   ],
   "source": [
    "prediction1 = get_loc_from_pred(preds1, offsets1, seq_ids1)\n",
    "result1 = evaluate(prediction1, offsets1, seq_ids1, lbls1)\n",
    "result1"
   ]
  },
  {
   "cell_type": "code",
   "execution_count": 33,
   "id": "7730bbf9",
   "metadata": {
    "execution": {
     "iopub.execute_input": "2022-05-04T20:27:44.360176Z",
     "iopub.status.busy": "2022-05-04T20:27:44.354918Z",
     "iopub.status.idle": "2022-05-04T20:27:58.123184Z",
     "shell.execute_reply": "2022-05-04T20:27:58.122460Z",
     "shell.execute_reply.started": "2022-05-04T18:28:23.720802Z"
    },
    "papermill": {
     "duration": 17.654008,
     "end_time": "2022-05-04T20:27:58.123317",
     "exception": false,
     "start_time": "2022-05-04T20:27:40.469309",
     "status": "completed"
    },
    "tags": []
   },
   "outputs": [
    {
     "data": {
      "text/plain": [
       "(0.0, 0.0, 0.0, None)"
      ]
     },
     "execution_count": 33,
     "metadata": {},
     "output_type": "execute_result"
    }
   ],
   "source": [
    "prediction2 = get_loc_from_pred(preds2, offsets2, seq_ids2)\n",
    "result2 = evaluate(prediction2, offsets2, seq_ids2, lbls2)\n",
    "result2"
   ]
  },
  {
   "cell_type": "code",
   "execution_count": 34,
   "id": "c4c9e1d5",
   "metadata": {
    "execution": {
     "iopub.execute_input": "2022-05-04T20:28:05.731075Z",
     "iopub.status.busy": "2022-05-04T20:28:05.730254Z",
     "iopub.status.idle": "2022-05-04T20:28:20.130658Z",
     "shell.execute_reply": "2022-05-04T20:28:20.131094Z",
     "shell.execute_reply.started": "2022-05-04T17:58:54.723708Z"
    },
    "papermill": {
     "duration": 18.327301,
     "end_time": "2022-05-04T20:28:20.131247",
     "exception": false,
     "start_time": "2022-05-04T20:28:01.803946",
     "status": "completed"
    },
    "tags": []
   },
   "outputs": [
    {
     "data": {
      "text/plain": [
       "(0.6578683115765314, 0.7109526393302845, 0.6833811421972209, None)"
      ]
     },
     "execution_count": 34,
     "metadata": {},
     "output_type": "execute_result"
    }
   ],
   "source": [
    "prediction = get_loc_from_pred(preds, offsets, seq_ids)\n",
    "result = evaluate(prediction, offsets, seq_ids, lbls)\n",
    "result"
   ]
  },
  {
   "cell_type": "code",
   "execution_count": 35,
   "id": "50c3de16",
   "metadata": {
    "execution": {
     "iopub.execute_input": "2022-05-04T20:28:27.681324Z",
     "iopub.status.busy": "2022-05-04T20:28:27.680438Z",
     "iopub.status.idle": "2022-05-04T20:28:27.684152Z",
     "shell.execute_reply": "2022-05-04T20:28:27.682060Z",
     "shell.execute_reply.started": "2022-05-04T18:07:16.085260Z"
    },
    "papermill": {
     "duration": 3.829018,
     "end_time": "2022-05-04T20:28:27.684314",
     "exception": false,
     "start_time": "2022-05-04T20:28:23.855296",
     "status": "completed"
    },
    "tags": []
   },
   "outputs": [
    {
     "data": {
      "text/plain": [
       "[0.5224170021567316,\n",
       " 0.35396581467427274,\n",
       " 0.2712135445435105,\n",
       " 0.21934493416452133,\n",
       " 0.18256418626311563,\n",
       " 0.1547514969597577,\n",
       " 0.1328908109004355,\n",
       " 0.11527356297827235,\n",
       " 0.10085844336667106,\n",
       " 0.08892974400309736]"
      ]
     },
     "execution_count": 35,
     "metadata": {},
     "output_type": "execute_result"
    }
   ],
   "source": [
    "nn_loss"
   ]
  },
  {
   "cell_type": "code",
   "execution_count": 36,
   "id": "dd262b35",
   "metadata": {
    "execution": {
     "iopub.execute_input": "2022-05-04T20:28:35.117966Z",
     "iopub.status.busy": "2022-05-04T20:28:35.117054Z",
     "iopub.status.idle": "2022-05-04T20:28:35.317340Z",
     "shell.execute_reply": "2022-05-04T20:28:35.317786Z",
     "shell.execute_reply.started": "2022-05-04T18:29:05.884365Z"
    },
    "papermill": {
     "duration": 3.922775,
     "end_time": "2022-05-04T20:28:35.317963",
     "exception": false,
     "start_time": "2022-05-04T20:28:31.395188",
     "status": "completed"
    },
    "tags": []
   },
   "outputs": [
    {
     "name": "stdout",
     "output_type": "stream",
     "text": [
      "[ 1.  2.  3.  4.  5.  6.  7.  8.  9. 10.]\n"
     ]
    },
    {
     "data": {
      "image/png": "[encoded data removed]",
      "text/plain": [
       "<Figure size 432x288 with 1 Axes>"
      ]
     },
     "metadata": {
      "needs_background": "light"
     },
     "output_type": "display_data"
    }
   ],
   "source": [
    "x = np.linspace(1, 10, 10)\n",
    "print(x)\n",
    "plt.plot(x, np.array(nn_loss), color='b', label='neural network loss')\n",
    "plt.plot(x, bert_loss, color='r', label='bert loss')\n",
    "plt.plot(x, lstm_loss, color='green', label='lstm loss')\n",
    "plt.xlabel('epochs')\n",
    "plt.ylabel('loss')\n",
    "plt.title('Loss')\n",
    "plt.legend(loc='lower right')\n",
    "plt.show()"
   ]
  },
  {
   "cell_type": "code",
   "execution_count": null,
   "id": "37e78f2d",
   "metadata": {
    "papermill": {
     "duration": 3.68679,
     "end_time": "2022-05-04T20:28:43.536483",
     "exception": false,
     "start_time": "2022-05-04T20:28:39.849693",
     "status": "completed"
    },
    "tags": []
   },
   "outputs": [],
   "source": []
  }
 ],
 "metadata": {
  "kernelspec": {
   "display_name": "Python 3",
   "language": "python",
   "name": "python3"
  },
  "language_info": {
   "codemirror_mode": {
    "name": "ipython",
    "version": 3
   },
   "file_extension": ".py",
   "mimetype": "text/x-python",
   "name": "python",
   "nbconvert_exporter": "python",
   "pygments_lexer": "ipython3",
   "version": "3.7.12"
  },
  "papermill": {
   "default_parameters": {},
   "duration": 4695.646218,
   "end_time": "2022-05-04T20:28:48.471190",
   "environment_variables": {},
   "exception": null,
   "input_path": "__notebook__.ipynb",
   "output_path": "__notebook__.ipynb",
   "parameters": {},
   "start_time": "2022-05-04T19:10:32.824972",
   "version": "2.3.3"
  },
  "widgets": {
   "application/vnd.jupyter.widget-state+json": {
    "state": {
     "00cf58b9817e40d8918b9d229c9afd03": {
      "model_module": "@jupyter-widgets/controls",
      "model_module_version": "1.5.0",
      "model_name": "DescriptionStyleModel",
      "state": {
       "_model_module": "@jupyter-widgets/controls",
       "_model_module_version": "1.5.0",
       "_model_name": "DescriptionStyleModel",
       "_view_count": null,
       "_view_module": "@jupyter-widgets/base",
       "_view_module_version": "1.2.0",
       "_view_name": "StyleView",
       "description_width": ""
      }
     },
     "08335ded0a074aa1bddacdf5dbd3aff7": {
      "model_module": "@jupyter-widgets/base",
      "model_module_version": "1.2.0",
      "model_name": "LayoutModel",
      "state": {
       "_model_module": "@jupyter-widgets/base",
       "_model_module_version": "1.2.0",
       "_model_name": "LayoutModel",
       "_view_count": null,
       "_view_module": "@jupyter-widgets/base",
       "_view_module_version": "1.2.0",
       "_view_name": "LayoutView",
       "align_content": null,
       "align_items": null,
       "align_self": null,
       "border": null,
       "bottom": null,
       "display": null,
       "flex": null,
       "flex_flow": null,
       "grid_area": null,
       "grid_auto_columns": null,
       "grid_auto_flow": null,
       "grid_auto_rows": null,
       "grid_column": null,
       "grid_gap": null,
       "grid_row": null,
       "grid_template_areas": null,
       "grid_template_columns": null,
       "grid_template_rows": null,
       "height": null,
       "justify_content": null,
       "justify_items": null,
       "left": null,
       "margin": null,
       "max_height": null,
       "max_width": null,
       "min_height": null,
       "min_width": null,
       "object_fit": null,
       "object_position": null,
       "order": null,
       "overflow": null,
       "overflow_x": null,
       "overflow_y": null,
       "padding": null,
       "right": null,
       "top": null,
       "visibility": null,
       "width": null
      }
     },
     "099aad2e33e84a15b0b32cc6a0f5a33a": {
      "model_module": "@jupyter-widgets/controls",
      "model_module_version": "1.5.0",
      "model_name": "FloatProgressModel",
      "state": {
       "_dom_classes": [],
       "_model_module": "@jupyter-widgets/controls",
       "_model_module_version": "1.5.0",
       "_model_name": "FloatProgressModel",
       "_view_count": null,
       "_view_module": "@jupyter-widgets/controls",
       "_view_module_version": "1.5.0",
       "_view_name": "ProgressView",
       "bar_style": "success",
       "description": "",
       "description_tooltip": null,
       "layout": "IPY_MODEL_08335ded0a074aa1bddacdf5dbd3aff7",
       "max": 570.0,
       "min": 0.0,
       "orientation": "horizontal",
       "style": "IPY_MODEL_66fa92a1b5a0461c988f10dcf0e415a8",
       "value": 570.0
      }
     },
     "0bc54a30d9b44a3cbb29e37f5ef15109": {
      "model_module": "@jupyter-widgets/controls",
      "model_module_version": "1.5.0",
      "model_name": "HTMLModel",
      "state": {
       "_dom_classes": [],
       "_model_module": "@jupyter-widgets/controls",
       "_model_module_version": "1.5.0",
       "_model_name": "HTMLModel",
       "_view_count": null,
       "_view_module": "@jupyter-widgets/controls",
       "_view_module_version": "1.5.0",
       "_view_name": "HTMLView",
       "description": "",
       "description_tooltip": null,
       "layout": "IPY_MODEL_1562d5aeee8d44349ec1135db48bcf0d",
       "placeholder": "​",
       "style": "IPY_MODEL_8622262cac9e4312bfb5cb0ffb610bb9",
       "value": " 28.0/28.0 [00:00&lt;00:00, 1.09kB/s]"
      }
     },
     "10faed0525c548548dbe1c97a309c3ff": {
      "model_module": "@jupyter-widgets/controls",
      "model_module_version": "1.5.0",
      "model_name": "HBoxModel",
      "state": {
       "_dom_classes": [],
       "_model_module": "@jupyter-widgets/controls",
       "_model_module_version": "1.5.0",
       "_model_name": "HBoxModel",
       "_view_count": null,
       "_view_module": "@jupyter-widgets/controls",
       "_view_module_version": "1.5.0",
       "_view_name": "HBoxView",
       "box_style": "",
       "children": [
        "IPY_MODEL_ee2d38fecedd45758ac423e62b8784b1",
        "IPY_MODEL_099aad2e33e84a15b0b32cc6a0f5a33a",
        "IPY_MODEL_e89a50ac9bf14be4bd9389543e9e7a29"
       ],
       "layout": "IPY_MODEL_8ee3f0399ac84ccaadc1b0fbbfccd751"
      }
     },
     "1562d5aeee8d44349ec1135db48bcf0d": {
      "model_module": "@jupyter-widgets/base",
      "model_module_version": "1.2.0",
      "model_name": "LayoutModel",
      "state": {
       "_model_module": "@jupyter-widgets/base",
       "_model_module_version": "1.2.0",
       "_model_name": "LayoutModel",
       "_view_count": null,
       "_view_module": "@jupyter-widgets/base",
       "_view_module_version": "1.2.0",
       "_view_name": "LayoutView",
       "align_content": null,
       "align_items": null,
       "align_self": null,
       "border": null,
       "bottom": null,
       "display": null,
       "flex": null,
       "flex_flow": null,
       "grid_area": null,
       "grid_auto_columns": null,
       "grid_auto_flow": null,
       "grid_auto_rows": null,
       "grid_column": null,
       "grid_gap": null,
       "grid_row": null,
       "grid_template_areas": null,
       "grid_template_columns": null,
       "grid_template_rows": null,
       "height": null,
       "justify_content": null,
       "justify_items": null,
       "left": null,
       "margin": null,
       "max_height": null,
       "max_width": null,
       "min_height": null,
       "min_width": null,
       "object_fit": null,
       "object_position": null,
       "order": null,
       "overflow": null,
       "overflow_x": null,
       "overflow_y": null,
       "padding": null,
       "right": null,
       "top": null,
       "visibility": null,
       "width": null
      }
     },
     "1576015bea664d1c92a4594afc281ab8": {
      "model_module": "@jupyter-widgets/controls",
      "model_module_version": "1.5.0",
      "model_name": "FloatProgressModel",
      "state": {
       "_dom_classes": [],
       "_model_module": "@jupyter-widgets/controls",
       "_model_module_version": "1.5.0",
       "_model_name": "FloatProgressModel",
       "_view_count": null,
       "_view_module": "@jupyter-widgets/controls",
       "_view_module_version": "1.5.0",
       "_view_name": "ProgressView",
       "bar_style": "success",
       "description": "",
       "description_tooltip": null,
       "layout": "IPY_MODEL_ca0c61b483c148ab9d86c0cf1314ef7f",
       "max": 28.0,
       "min": 0.0,
       "orientation": "horizontal",
       "style": "IPY_MODEL_5cf99e38bf474f6596bcd5e3fc0b6781",
       "value": 28.0
      }
     },
     "16447e8931474896a015cadc4d5873d4": {
      "model_module": "@jupyter-widgets/controls",
      "model_module_version": "1.5.0",
      "model_name": "HTMLModel",
      "state": {
       "_dom_classes": [],
       "_model_module": "@jupyter-widgets/controls",
       "_model_module_version": "1.5.0",
       "_model_name": "HTMLModel",
       "_view_count": null,
       "_view_module": "@jupyter-widgets/controls",
       "_view_module_version": "1.5.0",
       "_view_name": "HTMLView",
       "description": "",
       "description_tooltip": null,
       "layout": "IPY_MODEL_e6d1ebdb9dbc40a2aef4d273e75a7a19",
       "placeholder": "​",
       "style": "IPY_MODEL_ef227b0dd8724b4c92ac3d850346e1ec",
       "value": "Downloading: 100%"
      }
     },
     "19647ec2076a4094b41c030f91275359": {
      "model_module": "@jupyter-widgets/controls",
      "model_module_version": "1.5.0",
      "model_name": "DescriptionStyleModel",
      "state": {
       "_model_module": "@jupyter-widgets/controls",
       "_model_module_version": "1.5.0",
       "_model_name": "DescriptionStyleModel",
       "_view_count": null,
       "_view_module": "@jupyter-widgets/base",
       "_view_module_version": "1.2.0",
       "_view_name": "StyleView",
       "description_width": ""
      }
     },
     "23f4305c7bac47e8bb4cde4ea3829ee7": {
      "model_module": "@jupyter-widgets/base",
      "model_module_version": "1.2.0",
      "model_name": "LayoutModel",
      "state": {
       "_model_module": "@jupyter-widgets/base",
       "_model_module_version": "1.2.0",
       "_model_name": "LayoutModel",
       "_view_count": null,
       "_view_module": "@jupyter-widgets/base",
       "_view_module_version": "1.2.0",
       "_view_name": "LayoutView",
       "align_content": null,
       "align_items": null,
       "align_self": null,
       "border": null,
       "bottom": null,
       "display": null,
       "flex": null,
       "flex_flow": null,
       "grid_area": null,
       "grid_auto_columns": null,
       "grid_auto_flow": null,
       "grid_auto_rows": null,
       "grid_column": null,
       "grid_gap": null,
       "grid_row": null,
       "grid_template_areas": null,
       "grid_template_columns": null,
       "grid_template_rows": null,
       "height": null,
       "justify_content": null,
       "justify_items": null,
       "left": null,
       "margin": null,
       "max_height": null,
       "max_width": null,
       "min_height": null,
       "min_width": null,
       "object_fit": null,
       "object_position": null,
       "order": null,
       "overflow": null,
       "overflow_x": null,
       "overflow_y": null,
       "padding": null,
       "right": null,
       "top": null,
       "visibility": null,
       "width": null
      }
     },
     "28786054dfbf4b1cb1865c29f7227f6d": {
      "model_module": "@jupyter-widgets/base",
      "model_module_version": "1.2.0",
      "model_name": "LayoutModel",
      "state": {
       "_model_module": "@jupyter-widgets/base",
       "_model_module_version": "1.2.0",
       "_model_name": "LayoutModel",
       "_view_count": null,
       "_view_module": "@jupyter-widgets/base",
       "_view_module_version": "1.2.0",
       "_view_name": "LayoutView",
       "align_content": null,
       "align_items": null,
       "align_self": null,
       "border": null,
       "bottom": null,
       "display": null,
       "flex": null,
       "flex_flow": null,
       "grid_area": null,
       "grid_auto_columns": null,
       "grid_auto_flow": null,
       "grid_auto_rows": null,
       "grid_column": null,
       "grid_gap": null,
       "grid_row": null,
       "grid_template_areas": null,
       "grid_template_columns": null,
       "grid_template_rows": null,
       "height": null,
       "justify_content": null,
       "justify_items": null,
       "left": null,
       "margin": null,
       "max_height": null,
       "max_width": null,
       "min_height": null,
       "min_width": null,
       "object_fit": null,
       "object_position": null,
       "order": null,
       "overflow": null,
       "overflow_x": null,
       "overflow_y": null,
       "padding": null,
       "right": null,
       "top": null,
       "visibility": null,
       "width": null
      }
     },
     "3436175cc348479eafe878189a41f856": {
      "model_module": "@jupyter-widgets/controls",
      "model_module_version": "1.5.0",
      "model_name": "HTMLModel",
      "state": {
       "_dom_classes": [],
       "_model_module": "@jupyter-widgets/controls",
       "_model_module_version": "1.5.0",
       "_model_name": "HTMLModel",
       "_view_count": null,
       "_view_module": "@jupyter-widgets/controls",
       "_view_module_version": "1.5.0",
       "_view_name": "HTMLView",
       "description": "",
       "description_tooltip": null,
       "layout": "IPY_MODEL_40295e82fb97471594b40b75064de5e7",
       "placeholder": "​",
       "style": "IPY_MODEL_67a05237504c483da70a77356dee4b2b",
       "value": " 226k/226k [00:00&lt;00:00, 622kB/s]"
      }
     },
     "3e9ca3b675f84f98a17c57bb9c00bcd1": {
      "model_module": "@jupyter-widgets/controls",
      "model_module_version": "1.5.0",
      "model_name": "DescriptionStyleModel",
      "state": {
       "_model_module": "@jupyter-widgets/controls",
       "_model_module_version": "1.5.0",
       "_model_name": "DescriptionStyleModel",
       "_view_count": null,
       "_view_module": "@jupyter-widgets/base",
       "_view_module_version": "1.2.0",
       "_view_name": "StyleView",
       "description_width": ""
      }
     },
     "40295e82fb97471594b40b75064de5e7": {
      "model_module": "@jupyter-widgets/base",
      "model_module_version": "1.2.0",
      "model_name": "LayoutModel",
      "state": {
       "_model_module": "@jupyter-widgets/base",
       "_model_module_version": "1.2.0",
       "_model_name": "LayoutModel",
       "_view_count": null,
       "_view_module": "@jupyter-widgets/base",
       "_view_module_version": "1.2.0",
       "_view_name": "LayoutView",
       "align_content": null,
       "align_items": null,
       "align_self": null,
       "border": null,
       "bottom": null,
       "display": null,
       "flex": null,
       "flex_flow": null,
       "grid_area": null,
       "grid_auto_columns": null,
       "grid_auto_flow": null,
       "grid_auto_rows": null,
       "grid_column": null,
       "grid_gap": null,
       "grid_row": null,
       "grid_template_areas": null,
       "grid_template_columns": null,
       "grid_template_rows": null,
       "height": null,
       "justify_content": null,
       "justify_items": null,
       "left": null,
       "margin": null,
       "max_height": null,
       "max_width": null,
       "min_height": null,
       "min_width": null,
       "object_fit": null,
       "object_position": null,
       "order": null,
       "overflow": null,
       "overflow_x": null,
       "overflow_y": null,
       "padding": null,
       "right": null,
       "top": null,
       "visibility": null,
       "width": null
      }
     },
     "4b6bc95854b24f2aa8e782289586fa5c": {
      "model_module": "@jupyter-widgets/controls",
      "model_module_version": "1.5.0",
      "model_name": "HBoxModel",
      "state": {
       "_dom_classes": [],
       "_model_module": "@jupyter-widgets/controls",
       "_model_module_version": "1.5.0",
       "_model_name": "HBoxModel",
       "_view_count": null,
       "_view_module": "@jupyter-widgets/controls",
       "_view_module_version": "1.5.0",
       "_view_name": "HBoxView",
       "box_style": "",
       "children": [
        "IPY_MODEL_a644396b7d65459abe3648c16e5158df",
        "IPY_MODEL_b76eb5b788644c3e91398de9dc74b027",
        "IPY_MODEL_92acf21e7c72419e8db79a766194ccc3"
       ],
       "layout": "IPY_MODEL_a56c6c26a7364bffbd5b9981fec43858"
      }
     },
     "52b7d8ab8da04b1d91088e384ffdad53": {
      "model_module": "@jupyter-widgets/controls",
      "model_module_version": "1.5.0",
      "model_name": "ProgressStyleModel",
      "state": {
       "_model_module": "@jupyter-widgets/controls",
       "_model_module_version": "1.5.0",
       "_model_name": "ProgressStyleModel",
       "_view_count": null,
       "_view_module": "@jupyter-widgets/base",
       "_view_module_version": "1.2.0",
       "_view_name": "StyleView",
       "bar_color": null,
       "description_width": ""
      }
     },
     "571986967c364bbf928fc26dc7fde360": {
      "model_module": "@jupyter-widgets/base",
      "model_module_version": "1.2.0",
      "model_name": "LayoutModel",
      "state": {
       "_model_module": "@jupyter-widgets/base",
       "_model_module_version": "1.2.0",
       "_model_name": "LayoutModel",
       "_view_count": null,
       "_view_module": "@jupyter-widgets/base",
       "_view_module_version": "1.2.0",
       "_view_name": "LayoutView",
       "align_content": null,
       "align_items": null,
       "align_self": null,
       "border": null,
       "bottom": null,
       "display": null,
       "flex": null,
       "flex_flow": null,
       "grid_area": null,
       "grid_auto_columns": null,
       "grid_auto_flow": null,
       "grid_auto_rows": null,
       "grid_column": null,
       "grid_gap": null,
       "grid_row": null,
       "grid_template_areas": null,
       "grid_template_columns": null,
       "grid_template_rows": null,
       "height": null,
       "justify_content": null,
       "justify_items": null,
       "left": null,
       "margin": null,
       "max_height": null,
       "max_width": null,
       "min_height": null,
       "min_width": null,
       "object_fit": null,
       "object_position": null,
       "order": null,
       "overflow": null,
       "overflow_x": null,
       "overflow_y": null,
       "padding": null,
       "right": null,
       "top": null,
       "visibility": null,
       "width": null
      }
     },
     "5cf99e38bf474f6596bcd5e3fc0b6781": {
      "model_module": "@jupyter-widgets/controls",
      "model_module_version": "1.5.0",
      "model_name": "ProgressStyleModel",
      "state": {
       "_model_module": "@jupyter-widgets/controls",
       "_model_module_version": "1.5.0",
       "_model_name": "ProgressStyleModel",
       "_view_count": null,
       "_view_module": "@jupyter-widgets/base",
       "_view_module_version": "1.2.0",
       "_view_name": "StyleView",
       "bar_color": null,
       "description_width": ""
      }
     },
     "6604a2d6807c477f95135deb4c0940c2": {
      "model_module": "@jupyter-widgets/base",
      "model_module_version": "1.2.0",
      "model_name": "LayoutModel",
      "state": {
       "_model_module": "@jupyter-widgets/base",
       "_model_module_version": "1.2.0",
       "_model_name": "LayoutModel",
       "_view_count": null,
       "_view_module": "@jupyter-widgets/base",
       "_view_module_version": "1.2.0",
       "_view_name": "LayoutView",
       "align_content": null,
       "align_items": null,
       "align_self": null,
       "border": null,
       "bottom": null,
       "display": null,
       "flex": null,
       "flex_flow": null,
       "grid_area": null,
       "grid_auto_columns": null,
       "grid_auto_flow": null,
       "grid_auto_rows": null,
       "grid_column": null,
       "grid_gap": null,
       "grid_row": null,
       "grid_template_areas": null,
       "grid_template_columns": null,
       "grid_template_rows": null,
       "height": null,
       "justify_content": null,
       "justify_items": null,
       "left": null,
       "margin": null,
       "max_height": null,
       "max_width": null,
       "min_height": null,
       "min_width": null,
       "object_fit": null,
       "object_position": null,
       "order": null,
       "overflow": null,
       "overflow_x": null,
       "overflow_y": null,
       "padding": null,
       "right": null,
       "top": null,
       "visibility": null,
       "width": null
      }
     },
     "662e820640b84d699b10b6dd159af3b3": {
      "model_module": "@jupyter-widgets/controls",
      "model_module_version": "1.5.0",
      "model_name": "FloatProgressModel",
      "state": {
       "_dom_classes": [],
       "_model_module": "@jupyter-widgets/controls",
       "_model_module_version": "1.5.0",
       "_model_name": "FloatProgressModel",
       "_view_count": null,
       "_view_module": "@jupyter-widgets/controls",
       "_view_module_version": "1.5.0",
       "_view_name": "ProgressView",
       "bar_style": "success",
       "description": "",
       "description_tooltip": null,
       "layout": "IPY_MODEL_571986967c364bbf928fc26dc7fde360",
       "max": 231508.0,
       "min": 0.0,
       "orientation": "horizontal",
       "style": "IPY_MODEL_52b7d8ab8da04b1d91088e384ffdad53",
       "value": 231508.0
      }
     },
     "66fa92a1b5a0461c988f10dcf0e415a8": {
      "model_module": "@jupyter-widgets/controls",
      "model_module_version": "1.5.0",
      "model_name": "ProgressStyleModel",
      "state": {
       "_model_module": "@jupyter-widgets/controls",
       "_model_module_version": "1.5.0",
       "_model_name": "ProgressStyleModel",
       "_view_count": null,
       "_view_module": "@jupyter-widgets/base",
       "_view_module_version": "1.2.0",
       "_view_name": "StyleView",
       "bar_color": null,
       "description_width": ""
      }
     },
     "67a05237504c483da70a77356dee4b2b": {
      "model_module": "@jupyter-widgets/controls",
      "model_module_version": "1.5.0",
      "model_name": "DescriptionStyleModel",
      "state": {
       "_model_module": "@jupyter-widgets/controls",
       "_model_module_version": "1.5.0",
       "_model_name": "DescriptionStyleModel",
       "_view_count": null,
       "_view_module": "@jupyter-widgets/base",
       "_view_module_version": "1.2.0",
       "_view_name": "StyleView",
       "description_width": ""
      }
     },
     "6820a12ee43b4ad48fd67c561099abff": {
      "model_module": "@jupyter-widgets/controls",
      "model_module_version": "1.5.0",
      "model_name": "HBoxModel",
      "state": {
       "_dom_classes": [],
       "_model_module": "@jupyter-widgets/controls",
       "_model_module_version": "1.5.0",
       "_model_name": "HBoxModel",
       "_view_count": null,
       "_view_module": "@jupyter-widgets/controls",
       "_view_module_version": "1.5.0",
       "_view_name": "HBoxView",
       "box_style": "",
       "children": [
        "IPY_MODEL_9d62425aae6a4f3abc90368ddbc97569",
        "IPY_MODEL_662e820640b84d699b10b6dd159af3b3",
        "IPY_MODEL_3436175cc348479eafe878189a41f856"
       ],
       "layout": "IPY_MODEL_94e69ffe32414b5c909d8a8590dd226a"
      }
     },
     "8622262cac9e4312bfb5cb0ffb610bb9": {
      "model_module": "@jupyter-widgets/controls",
      "model_module_version": "1.5.0",
      "model_name": "DescriptionStyleModel",
      "state": {
       "_model_module": "@jupyter-widgets/controls",
       "_model_module_version": "1.5.0",
       "_model_name": "DescriptionStyleModel",
       "_view_count": null,
       "_view_module": "@jupyter-widgets/base",
       "_view_module_version": "1.2.0",
       "_view_name": "StyleView",
       "description_width": ""
      }
     },
     "8ee3f0399ac84ccaadc1b0fbbfccd751": {
      "model_module": "@jupyter-widgets/base",
      "model_module_version": "1.2.0",
      "model_name": "LayoutModel",
      "state": {
       "_model_module": "@jupyter-widgets/base",
       "_model_module_version": "1.2.0",
       "_model_name": "LayoutModel",
       "_view_count": null,
       "_view_module": "@jupyter-widgets/base",
       "_view_module_version": "1.2.0",
       "_view_name": "LayoutView",
       "align_content": null,
       "align_items": null,
       "align_self": null,
       "border": null,
       "bottom": null,
       "display": null,
       "flex": null,
       "flex_flow": null,
       "grid_area": null,
       "grid_auto_columns": null,
       "grid_auto_flow": null,
       "grid_auto_rows": null,
       "grid_column": null,
       "grid_gap": null,
       "grid_row": null,
       "grid_template_areas": null,
       "grid_template_columns": null,
       "grid_template_rows": null,
       "height": null,
       "justify_content": null,
       "justify_items": null,
       "left": null,
       "margin": null,
       "max_height": null,
       "max_width": null,
       "min_height": null,
       "min_width": null,
       "object_fit": null,
       "object_position": null,
       "order": null,
       "overflow": null,
       "overflow_x": null,
       "overflow_y": null,
       "padding": null,
       "right": null,
       "top": null,
       "visibility": null,
       "width": null
      }
     },
     "92acf21e7c72419e8db79a766194ccc3": {
      "model_module": "@jupyter-widgets/controls",
      "model_module_version": "1.5.0",
      "model_name": "HTMLModel",
      "state": {
       "_dom_classes": [],
       "_model_module": "@jupyter-widgets/controls",
       "_model_module_version": "1.5.0",
       "_model_name": "HTMLModel",
       "_view_count": null,
       "_view_module": "@jupyter-widgets/controls",
       "_view_module_version": "1.5.0",
       "_view_name": "HTMLView",
       "description": "",
       "description_tooltip": null,
       "layout": "IPY_MODEL_28786054dfbf4b1cb1865c29f7227f6d",
       "placeholder": "​",
       "style": "IPY_MODEL_00cf58b9817e40d8918b9d229c9afd03",
       "value": " 455k/455k [00:00&lt;00:00, 656kB/s]"
      }
     },
     "94e69ffe32414b5c909d8a8590dd226a": {
      "model_module": "@jupyter-widgets/base",
      "model_module_version": "1.2.0",
      "model_name": "LayoutModel",
      "state": {
       "_model_module": "@jupyter-widgets/base",
       "_model_module_version": "1.2.0",
       "_model_name": "LayoutModel",
       "_view_count": null,
       "_view_module": "@jupyter-widgets/base",
       "_view_module_version": "1.2.0",
       "_view_name": "LayoutView",
       "align_content": null,
       "align_items": null,
       "align_self": null,
       "border": null,
       "bottom": null,
       "display": null,
       "flex": null,
       "flex_flow": null,
       "grid_area": null,
       "grid_auto_columns": null,
       "grid_auto_flow": null,
       "grid_auto_rows": null,
       "grid_column": null,
       "grid_gap": null,
       "grid_row": null,
       "grid_template_areas": null,
       "grid_template_columns": null,
       "grid_template_rows": null,
       "height": null,
       "justify_content": null,
       "justify_items": null,
       "left": null,
       "margin": null,
       "max_height": null,
       "max_width": null,
       "min_height": null,
       "min_width": null,
       "object_fit": null,
       "object_position": null,
       "order": null,
       "overflow": null,
       "overflow_x": null,
       "overflow_y": null,
       "padding": null,
       "right": null,
       "top": null,
       "visibility": null,
       "width": null
      }
     },
     "950cf650d2b84ec3ba395e471da83fae": {
      "model_module": "@jupyter-widgets/base",
      "model_module_version": "1.2.0",
      "model_name": "LayoutModel",
      "state": {
       "_model_module": "@jupyter-widgets/base",
       "_model_module_version": "1.2.0",
       "_model_name": "LayoutModel",
       "_view_count": null,
       "_view_module": "@jupyter-widgets/base",
       "_view_module_version": "1.2.0",
       "_view_name": "LayoutView",
       "align_content": null,
       "align_items": null,
       "align_self": null,
       "border": null,
       "bottom": null,
       "display": null,
       "flex": null,
       "flex_flow": null,
       "grid_area": null,
       "grid_auto_columns": null,
       "grid_auto_flow": null,
       "grid_auto_rows": null,
       "grid_column": null,
       "grid_gap": null,
       "grid_row": null,
       "grid_template_areas": null,
       "grid_template_columns": null,
       "grid_template_rows": null,
       "height": null,
       "justify_content": null,
       "justify_items": null,
       "left": null,
       "margin": null,
       "max_height": null,
       "max_width": null,
       "min_height": null,
       "min_width": null,
       "object_fit": null,
       "object_position": null,
       "order": null,
       "overflow": null,
       "overflow_x": null,
       "overflow_y": null,
       "padding": null,
       "right": null,
       "top": null,
       "visibility": null,
       "width": null
      }
     },
     "9d62425aae6a4f3abc90368ddbc97569": {
      "model_module": "@jupyter-widgets/controls",
      "model_module_version": "1.5.0",
      "model_name": "HTMLModel",
      "state": {
       "_dom_classes": [],
       "_model_module": "@jupyter-widgets/controls",
       "_model_module_version": "1.5.0",
       "_model_name": "HTMLModel",
       "_view_count": null,
       "_view_module": "@jupyter-widgets/controls",
       "_view_module_version": "1.5.0",
       "_view_name": "HTMLView",
       "description": "",
       "description_tooltip": null,
       "layout": "IPY_MODEL_23f4305c7bac47e8bb4cde4ea3829ee7",
       "placeholder": "​",
       "style": "IPY_MODEL_d8ec992ee1524950b831e61ecc250ab2",
       "value": "Downloading: 100%"
      }
     },
     "a2382e6080e94d069a4f15d2e882d4a7": {
      "model_module": "@jupyter-widgets/controls",
      "model_module_version": "1.5.0",
      "model_name": "ProgressStyleModel",
      "state": {
       "_model_module": "@jupyter-widgets/controls",
       "_model_module_version": "1.5.0",
       "_model_name": "ProgressStyleModel",
       "_view_count": null,
       "_view_module": "@jupyter-widgets/base",
       "_view_module_version": "1.2.0",
       "_view_name": "StyleView",
       "bar_color": null,
       "description_width": ""
      }
     },
     "a56c6c26a7364bffbd5b9981fec43858": {
      "model_module": "@jupyter-widgets/base",
      "model_module_version": "1.2.0",
      "model_name": "LayoutModel",
      "state": {
       "_model_module": "@jupyter-widgets/base",
       "_model_module_version": "1.2.0",
       "_model_name": "LayoutModel",
       "_view_count": null,
       "_view_module": "@jupyter-widgets/base",
       "_view_module_version": "1.2.0",
       "_view_name": "LayoutView",
       "align_content": null,
       "align_items": null,
       "align_self": null,
       "border": null,
       "bottom": null,
       "display": null,
       "flex": null,
       "flex_flow": null,
       "grid_area": null,
       "grid_auto_columns": null,
       "grid_auto_flow": null,
       "grid_auto_rows": null,
       "grid_column": null,
       "grid_gap": null,
       "grid_row": null,
       "grid_template_areas": null,
       "grid_template_columns": null,
       "grid_template_rows": null,
       "height": null,
       "justify_content": null,
       "justify_items": null,
       "left": null,
       "margin": null,
       "max_height": null,
       "max_width": null,
       "min_height": null,
       "min_width": null,
       "object_fit": null,
       "object_position": null,
       "order": null,
       "overflow": null,
       "overflow_x": null,
       "overflow_y": null,
       "padding": null,
       "right": null,
       "top": null,
       "visibility": null,
       "width": null
      }
     },
     "a644396b7d65459abe3648c16e5158df": {
      "model_module": "@jupyter-widgets/controls",
      "model_module_version": "1.5.0",
      "model_name": "HTMLModel",
      "state": {
       "_dom_classes": [],
       "_model_module": "@jupyter-widgets/controls",
       "_model_module_version": "1.5.0",
       "_model_name": "HTMLModel",
       "_view_count": null,
       "_view_module": "@jupyter-widgets/controls",
       "_view_module_version": "1.5.0",
       "_view_name": "HTMLView",
       "description": "",
       "description_tooltip": null,
       "layout": "IPY_MODEL_f330763fae904f40b7457b3180bb9144",
       "placeholder": "​",
       "style": "IPY_MODEL_3e9ca3b675f84f98a17c57bb9c00bcd1",
       "value": "Downloading: 100%"
      }
     },
     "a845633cab844e9db25d1bdf491ac01e": {
      "model_module": "@jupyter-widgets/base",
      "model_module_version": "1.2.0",
      "model_name": "LayoutModel",
      "state": {
       "_model_module": "@jupyter-widgets/base",
       "_model_module_version": "1.2.0",
       "_model_name": "LayoutModel",
       "_view_count": null,
       "_view_module": "@jupyter-widgets/base",
       "_view_module_version": "1.2.0",
       "_view_name": "LayoutView",
       "align_content": null,
       "align_items": null,
       "align_self": null,
       "border": null,
       "bottom": null,
       "display": null,
       "flex": null,
       "flex_flow": null,
       "grid_area": null,
       "grid_auto_columns": null,
       "grid_auto_flow": null,
       "grid_auto_rows": null,
       "grid_column": null,
       "grid_gap": null,
       "grid_row": null,
       "grid_template_areas": null,
       "grid_template_columns": null,
       "grid_template_rows": null,
       "height": null,
       "justify_content": null,
       "justify_items": null,
       "left": null,
       "margin": null,
       "max_height": null,
       "max_width": null,
       "min_height": null,
       "min_width": null,
       "object_fit": null,
       "object_position": null,
       "order": null,
       "overflow": null,
       "overflow_x": null,
       "overflow_y": null,
       "padding": null,
       "right": null,
       "top": null,
       "visibility": null,
       "width": null
      }
     },
     "b76eb5b788644c3e91398de9dc74b027": {
      "model_module": "@jupyter-widgets/controls",
      "model_module_version": "1.5.0",
      "model_name": "FloatProgressModel",
      "state": {
       "_dom_classes": [],
       "_model_module": "@jupyter-widgets/controls",
       "_model_module_version": "1.5.0",
       "_model_name": "FloatProgressModel",
       "_view_count": null,
       "_view_module": "@jupyter-widgets/controls",
       "_view_module_version": "1.5.0",
       "_view_name": "ProgressView",
       "bar_style": "success",
       "description": "",
       "description_tooltip": null,
       "layout": "IPY_MODEL_a845633cab844e9db25d1bdf491ac01e",
       "max": 466062.0,
       "min": 0.0,
       "orientation": "horizontal",
       "style": "IPY_MODEL_a2382e6080e94d069a4f15d2e882d4a7",
       "value": 466062.0
      }
     },
     "ca0c61b483c148ab9d86c0cf1314ef7f": {
      "model_module": "@jupyter-widgets/base",
      "model_module_version": "1.2.0",
      "model_name": "LayoutModel",
      "state": {
       "_model_module": "@jupyter-widgets/base",
       "_model_module_version": "1.2.0",
       "_model_name": "LayoutModel",
       "_view_count": null,
       "_view_module": "@jupyter-widgets/base",
       "_view_module_version": "1.2.0",
       "_view_name": "LayoutView",
       "align_content": null,
       "align_items": null,
       "align_self": null,
       "border": null,
       "bottom": null,
       "display": null,
       "flex": null,
       "flex_flow": null,
       "grid_area": null,
       "grid_auto_columns": null,
       "grid_auto_flow": null,
       "grid_auto_rows": null,
       "grid_column": null,
       "grid_gap": null,
       "grid_row": null,
       "grid_template_areas": null,
       "grid_template_columns": null,
       "grid_template_rows": null,
       "height": null,
       "justify_content": null,
       "justify_items": null,
       "left": null,
       "margin": null,
       "max_height": null,
       "max_width": null,
       "min_height": null,
       "min_width": null,
       "object_fit": null,
       "object_position": null,
       "order": null,
       "overflow": null,
       "overflow_x": null,
       "overflow_y": null,
       "padding": null,
       "right": null,
       "top": null,
       "visibility": null,
       "width": null
      }
     },
     "d004a1bdf5af432d93a0d4060131ec22": {
      "model_module": "@jupyter-widgets/controls",
      "model_module_version": "1.5.0",
      "model_name": "DescriptionStyleModel",
      "state": {
       "_model_module": "@jupyter-widgets/controls",
       "_model_module_version": "1.5.0",
       "_model_name": "DescriptionStyleModel",
       "_view_count": null,
       "_view_module": "@jupyter-widgets/base",
       "_view_module_version": "1.2.0",
       "_view_name": "StyleView",
       "description_width": ""
      }
     },
     "d8ec992ee1524950b831e61ecc250ab2": {
      "model_module": "@jupyter-widgets/controls",
      "model_module_version": "1.5.0",
      "model_name": "DescriptionStyleModel",
      "state": {
       "_model_module": "@jupyter-widgets/controls",
       "_model_module_version": "1.5.0",
       "_model_name": "DescriptionStyleModel",
       "_view_count": null,
       "_view_module": "@jupyter-widgets/base",
       "_view_module_version": "1.2.0",
       "_view_name": "StyleView",
       "description_width": ""
      }
     },
     "e09f5a463852481b9ee28dd63b0e53ec": {
      "model_module": "@jupyter-widgets/base",
      "model_module_version": "1.2.0",
      "model_name": "LayoutModel",
      "state": {
       "_model_module": "@jupyter-widgets/base",
       "_model_module_version": "1.2.0",
       "_model_name": "LayoutModel",
       "_view_count": null,
       "_view_module": "@jupyter-widgets/base",
       "_view_module_version": "1.2.0",
       "_view_name": "LayoutView",
       "align_content": null,
       "align_items": null,
       "align_self": null,
       "border": null,
       "bottom": null,
       "display": null,
       "flex": null,
       "flex_flow": null,
       "grid_area": null,
       "grid_auto_columns": null,
       "grid_auto_flow": null,
       "grid_auto_rows": null,
       "grid_column": null,
       "grid_gap": null,
       "grid_row": null,
       "grid_template_areas": null,
       "grid_template_columns": null,
       "grid_template_rows": null,
       "height": null,
       "justify_content": null,
       "justify_items": null,
       "left": null,
       "margin": null,
       "max_height": null,
       "max_width": null,
       "min_height": null,
       "min_width": null,
       "object_fit": null,
       "object_position": null,
       "order": null,
       "overflow": null,
       "overflow_x": null,
       "overflow_y": null,
       "padding": null,
       "right": null,
       "top": null,
       "visibility": null,
       "width": null
      }
     },
     "e6d1ebdb9dbc40a2aef4d273e75a7a19": {
      "model_module": "@jupyter-widgets/base",
      "model_module_version": "1.2.0",
      "model_name": "LayoutModel",
      "state": {
       "_model_module": "@jupyter-widgets/base",
       "_model_module_version": "1.2.0",
       "_model_name": "LayoutModel",
       "_view_count": null,
       "_view_module": "@jupyter-widgets/base",
       "_view_module_version": "1.2.0",
       "_view_name": "LayoutView",
       "align_content": null,
       "align_items": null,
       "align_self": null,
       "border": null,
       "bottom": null,
       "display": null,
       "flex": null,
       "flex_flow": null,
       "grid_area": null,
       "grid_auto_columns": null,
       "grid_auto_flow": null,
       "grid_auto_rows": null,
       "grid_column": null,
       "grid_gap": null,
       "grid_row": null,
       "grid_template_areas": null,
       "grid_template_columns": null,
       "grid_template_rows": null,
       "height": null,
       "justify_content": null,
       "justify_items": null,
       "left": null,
       "margin": null,
       "max_height": null,
       "max_width": null,
       "min_height": null,
       "min_width": null,
       "object_fit": null,
       "object_position": null,
       "order": null,
       "overflow": null,
       "overflow_x": null,
       "overflow_y": null,
       "padding": null,
       "right": null,
       "top": null,
       "visibility": null,
       "width": null
      }
     },
     "e89a50ac9bf14be4bd9389543e9e7a29": {
      "model_module": "@jupyter-widgets/controls",
      "model_module_version": "1.5.0",
      "model_name": "HTMLModel",
      "state": {
       "_dom_classes": [],
       "_model_module": "@jupyter-widgets/controls",
       "_model_module_version": "1.5.0",
       "_model_name": "HTMLModel",
       "_view_count": null,
       "_view_module": "@jupyter-widgets/controls",
       "_view_module_version": "1.5.0",
       "_view_name": "HTMLView",
       "description": "",
       "description_tooltip": null,
       "layout": "IPY_MODEL_e09f5a463852481b9ee28dd63b0e53ec",
       "placeholder": "​",
       "style": "IPY_MODEL_d004a1bdf5af432d93a0d4060131ec22",
       "value": " 570/570 [00:00&lt;00:00, 21.6kB/s]"
      }
     },
     "ee2d38fecedd45758ac423e62b8784b1": {
      "model_module": "@jupyter-widgets/controls",
      "model_module_version": "1.5.0",
      "model_name": "HTMLModel",
      "state": {
       "_dom_classes": [],
       "_model_module": "@jupyter-widgets/controls",
       "_model_module_version": "1.5.0",
       "_model_name": "HTMLModel",
       "_view_count": null,
       "_view_module": "@jupyter-widgets/controls",
       "_view_module_version": "1.5.0",
       "_view_name": "HTMLView",
       "description": "",
       "description_tooltip": null,
       "layout": "IPY_MODEL_950cf650d2b84ec3ba395e471da83fae",
       "placeholder": "​",
       "style": "IPY_MODEL_19647ec2076a4094b41c030f91275359",
       "value": "Downloading: 100%"
      }
     },
     "ef227b0dd8724b4c92ac3d850346e1ec": {
      "model_module": "@jupyter-widgets/controls",
      "model_module_version": "1.5.0",
      "model_name": "DescriptionStyleModel",
      "state": {
       "_model_module": "@jupyter-widgets/controls",
       "_model_module_version": "1.5.0",
       "_model_name": "DescriptionStyleModel",
       "_view_count": null,
       "_view_module": "@jupyter-widgets/base",
       "_view_module_version": "1.2.0",
       "_view_name": "StyleView",
       "description_width": ""
      }
     },
     "f0c67ff0e1754f76bfef240075725b13": {
      "model_module": "@jupyter-widgets/controls",
      "model_module_version": "1.5.0",
      "model_name": "HBoxModel",
      "state": {
       "_dom_classes": [],
       "_model_module": "@jupyter-widgets/controls",
       "_model_module_version": "1.5.0",
       "_model_name": "HBoxModel",
       "_view_count": null,
       "_view_module": "@jupyter-widgets/controls",
       "_view_module_version": "1.5.0",
       "_view_name": "HBoxView",
       "box_style": "",
       "children": [
        "IPY_MODEL_16447e8931474896a015cadc4d5873d4",
        "IPY_MODEL_1576015bea664d1c92a4594afc281ab8",
        "IPY_MODEL_0bc54a30d9b44a3cbb29e37f5ef15109"
       ],
       "layout": "IPY_MODEL_6604a2d6807c477f95135deb4c0940c2"
      }
     },
     "f330763fae904f40b7457b3180bb9144": {
      "model_module": "@jupyter-widgets/base",
      "model_module_version": "1.2.0",
      "model_name": "LayoutModel",
      "state": {
       "_model_module": "@jupyter-widgets/base",
       "_model_module_version": "1.2.0",
       "_model_name": "LayoutModel",
       "_view_count": null,
       "_view_module": "@jupyter-widgets/base",
       "_view_module_version": "1.2.0",
       "_view_name": "LayoutView",
       "align_content": null,
       "align_items": null,
       "align_self": null,
       "border": null,
       "bottom": null,
       "display": null,
       "flex": null,
       "flex_flow": null,
       "grid_area": null,
       "grid_auto_columns": null,
       "grid_auto_flow": null,
       "grid_auto_rows": null,
       "grid_column": null,
       "grid_gap": null,
       "grid_row": null,
       "grid_template_areas": null,
       "grid_template_columns": null,
       "grid_template_rows": null,
       "height": null,
       "justify_content": null,
       "justify_items": null,
       "left": null,
       "margin": null,
       "max_height": null,
       "max_width": null,
       "min_height": null,
       "min_width": null,
       "object_fit": null,
       "object_position": null,
       "order": null,
       "overflow": null,
       "overflow_x": null,
       "overflow_y": null,
       "padding": null,
       "right": null,
       "top": null,
       "visibility": null,
       "width": null
      }
     }
    },
    "version_major": 2,
    "version_minor": 0
   }
  }
 },
 "nbformat": 4,
 "nbformat_minor": 5
}
